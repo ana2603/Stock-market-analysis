{
 "cells": [
  {
   "cell_type": "markdown",
   "id": "2a8b0966",
   "metadata": {},
   "source": [
    "### importing libraries\n"
   ]
  },
  {
   "cell_type": "code",
   "execution_count": 1,
   "id": "0f262a6e",
   "metadata": {
    "ExecuteTime": {
     "end_time": "2021-11-01T17:46:14.595025Z",
     "start_time": "2021-11-01T17:46:13.759141Z"
    }
   },
   "outputs": [],
   "source": [
    "import numpy as np\n",
    "import pandas as pd\n",
    "from scipy.stats import boxcox\n",
    "import matplotlib.pyplot as plt\n",
    "from scipy.special import boxcox, inv_boxcox\n",
    "import seaborn as sns\n",
    "import warnings\n",
    "warnings.filterwarnings(\"ignore\")"
   ]
  },
  {
   "cell_type": "code",
   "execution_count": 2,
   "id": "7152bd26",
   "metadata": {
    "ExecuteTime": {
     "end_time": "2021-11-01T17:46:14.737201Z",
     "start_time": "2021-11-01T17:46:14.596023Z"
    }
   },
   "outputs": [],
   "source": [
    "from datetime import date\n",
    "from nsepy import get_history"
   ]
  },
  {
   "cell_type": "code",
   "execution_count": 3,
   "id": "53cbc277",
   "metadata": {
    "ExecuteTime": {
     "end_time": "2021-11-01T17:46:14.752373Z",
     "start_time": "2021-11-01T17:46:14.738160Z"
    }
   },
   "outputs": [],
   "source": [
    "# def get_data(name):\n",
    "#     data = get_history(symbol = name , start=date(2017,1,1), end= date(2021,10,18))\n",
    "#     return data"
   ]
  },
  {
   "cell_type": "code",
   "execution_count": 4,
   "id": "f44ad7d2",
   "metadata": {
    "ExecuteTime": {
     "end_time": "2021-11-01T17:46:14.768064Z",
     "start_time": "2021-11-01T17:46:14.753365Z"
    }
   },
   "outputs": [],
   "source": [
    "# data = get_data(input('Enter Company Name  : '))"
   ]
  },
  {
   "cell_type": "markdown",
   "id": "9d335212",
   "metadata": {},
   "source": [
    "### Using nsepy librery to scrape the data from site"
   ]
  },
  {
   "cell_type": "code",
   "execution_count": 5,
   "id": "3287fbc8",
   "metadata": {
    "ExecuteTime": {
     "end_time": "2021-11-01T17:46:16.712233Z",
     "start_time": "2021-11-01T17:46:14.769053Z"
    }
   },
   "outputs": [],
   "source": [
    "data = get_history(symbol = 'RELIANCE', start=date(2015,1,1), end = date(2022,10,29)) "
   ]
  },
  {
   "cell_type": "code",
   "execution_count": 6,
   "id": "35c02df0",
   "metadata": {
    "ExecuteTime": {
     "end_time": "2021-11-01T17:46:16.743975Z",
     "start_time": "2021-11-01T17:46:16.713056Z"
    }
   },
   "outputs": [
    {
     "data": {
      "text/html": [
       "<div>\n",
       "<style scoped>\n",
       "    .dataframe tbody tr th:only-of-type {\n",
       "        vertical-align: middle;\n",
       "    }\n",
       "\n",
       "    .dataframe tbody tr th {\n",
       "        vertical-align: top;\n",
       "    }\n",
       "\n",
       "    .dataframe thead th {\n",
       "        text-align: right;\n",
       "    }\n",
       "</style>\n",
       "<table border=\"1\" class=\"dataframe\">\n",
       "  <thead>\n",
       "    <tr style=\"text-align: right;\">\n",
       "      <th></th>\n",
       "      <th>Symbol</th>\n",
       "      <th>Series</th>\n",
       "      <th>Prev Close</th>\n",
       "      <th>Open</th>\n",
       "      <th>High</th>\n",
       "      <th>Low</th>\n",
       "      <th>Last</th>\n",
       "      <th>Close</th>\n",
       "      <th>VWAP</th>\n",
       "      <th>Volume</th>\n",
       "      <th>Turnover</th>\n",
       "      <th>Trades</th>\n",
       "      <th>Deliverable Volume</th>\n",
       "      <th>%Deliverble</th>\n",
       "    </tr>\n",
       "    <tr>\n",
       "      <th>Date</th>\n",
       "      <th></th>\n",
       "      <th></th>\n",
       "      <th></th>\n",
       "      <th></th>\n",
       "      <th></th>\n",
       "      <th></th>\n",
       "      <th></th>\n",
       "      <th></th>\n",
       "      <th></th>\n",
       "      <th></th>\n",
       "      <th></th>\n",
       "      <th></th>\n",
       "      <th></th>\n",
       "      <th></th>\n",
       "    </tr>\n",
       "  </thead>\n",
       "  <tbody>\n",
       "    <tr>\n",
       "      <th>2021-10-26</th>\n",
       "      <td>RELIANCE</td>\n",
       "      <td>EQ</td>\n",
       "      <td>2601.80</td>\n",
       "      <td>2617.10</td>\n",
       "      <td>2668.90</td>\n",
       "      <td>2603.15</td>\n",
       "      <td>2666.3</td>\n",
       "      <td>2661.05</td>\n",
       "      <td>2635.70</td>\n",
       "      <td>4499706</td>\n",
       "      <td>1.185986e+15</td>\n",
       "      <td>199021</td>\n",
       "      <td>2113316</td>\n",
       "      <td>0.4697</td>\n",
       "    </tr>\n",
       "    <tr>\n",
       "      <th>2021-10-27</th>\n",
       "      <td>RELIANCE</td>\n",
       "      <td>EQ</td>\n",
       "      <td>2661.05</td>\n",
       "      <td>2652.00</td>\n",
       "      <td>2676.80</td>\n",
       "      <td>2619.95</td>\n",
       "      <td>2622.3</td>\n",
       "      <td>2627.40</td>\n",
       "      <td>2652.28</td>\n",
       "      <td>4567140</td>\n",
       "      <td>1.211333e+15</td>\n",
       "      <td>176020</td>\n",
       "      <td>2090011</td>\n",
       "      <td>0.4576</td>\n",
       "    </tr>\n",
       "    <tr>\n",
       "      <th>2021-10-28</th>\n",
       "      <td>RELIANCE</td>\n",
       "      <td>EQ</td>\n",
       "      <td>2627.40</td>\n",
       "      <td>2620.00</td>\n",
       "      <td>2637.95</td>\n",
       "      <td>2590.50</td>\n",
       "      <td>2598.0</td>\n",
       "      <td>2598.60</td>\n",
       "      <td>2610.69</td>\n",
       "      <td>4562471</td>\n",
       "      <td>1.191119e+15</td>\n",
       "      <td>170822</td>\n",
       "      <td>2460989</td>\n",
       "      <td>0.5394</td>\n",
       "    </tr>\n",
       "    <tr>\n",
       "      <th>2021-10-29</th>\n",
       "      <td>RELIANCE</td>\n",
       "      <td>EQ</td>\n",
       "      <td>2598.60</td>\n",
       "      <td>2596.15</td>\n",
       "      <td>2596.15</td>\n",
       "      <td>2501.70</td>\n",
       "      <td>2540.0</td>\n",
       "      <td>2536.25</td>\n",
       "      <td>2548.04</td>\n",
       "      <td>6568539</td>\n",
       "      <td>1.673689e+15</td>\n",
       "      <td>277855</td>\n",
       "      <td>3111491</td>\n",
       "      <td>0.4737</td>\n",
       "    </tr>\n",
       "    <tr>\n",
       "      <th>2021-11-01</th>\n",
       "      <td>RELIANCE</td>\n",
       "      <td>EQ</td>\n",
       "      <td>2536.25</td>\n",
       "      <td>2536.25</td>\n",
       "      <td>2556.00</td>\n",
       "      <td>2494.10</td>\n",
       "      <td>2538.1</td>\n",
       "      <td>2537.80</td>\n",
       "      <td>2523.59</td>\n",
       "      <td>7144532</td>\n",
       "      <td>1.802989e+15</td>\n",
       "      <td>273829</td>\n",
       "      <td>4144630</td>\n",
       "      <td>0.5801</td>\n",
       "    </tr>\n",
       "  </tbody>\n",
       "</table>\n",
       "</div>"
      ],
      "text/plain": [
       "              Symbol Series  Prev Close     Open     High      Low    Last  \\\n",
       "Date                                                                         \n",
       "2021-10-26  RELIANCE     EQ     2601.80  2617.10  2668.90  2603.15  2666.3   \n",
       "2021-10-27  RELIANCE     EQ     2661.05  2652.00  2676.80  2619.95  2622.3   \n",
       "2021-10-28  RELIANCE     EQ     2627.40  2620.00  2637.95  2590.50  2598.0   \n",
       "2021-10-29  RELIANCE     EQ     2598.60  2596.15  2596.15  2501.70  2540.0   \n",
       "2021-11-01  RELIANCE     EQ     2536.25  2536.25  2556.00  2494.10  2538.1   \n",
       "\n",
       "              Close     VWAP   Volume      Turnover  Trades  \\\n",
       "Date                                                          \n",
       "2021-10-26  2661.05  2635.70  4499706  1.185986e+15  199021   \n",
       "2021-10-27  2627.40  2652.28  4567140  1.211333e+15  176020   \n",
       "2021-10-28  2598.60  2610.69  4562471  1.191119e+15  170822   \n",
       "2021-10-29  2536.25  2548.04  6568539  1.673689e+15  277855   \n",
       "2021-11-01  2537.80  2523.59  7144532  1.802989e+15  273829   \n",
       "\n",
       "           Deliverable Volume  %Deliverble  \n",
       "Date                                        \n",
       "2021-10-26            2113316       0.4697  \n",
       "2021-10-27            2090011       0.4576  \n",
       "2021-10-28            2460989       0.5394  \n",
       "2021-10-29            3111491       0.4737  \n",
       "2021-11-01            4144630       0.5801  "
      ]
     },
     "execution_count": 6,
     "metadata": {},
     "output_type": "execute_result"
    }
   ],
   "source": [
    "data.tail()"
   ]
  },
  {
   "cell_type": "markdown",
   "id": "2b7d7424",
   "metadata": {},
   "source": [
    "### Writing to CSV file"
   ]
  },
  {
   "cell_type": "code",
   "execution_count": 7,
   "id": "41194536",
   "metadata": {
    "ExecuteTime": {
     "end_time": "2021-11-01T17:46:16.790992Z",
     "start_time": "2021-11-01T17:46:16.745971Z"
    }
   },
   "outputs": [],
   "source": [
    "data.to_csv('data.csv')\n",
    "data1 = pd.read_csv(\"data.csv\")"
   ]
  },
  {
   "cell_type": "code",
   "execution_count": 8,
   "id": "dc5e6c39",
   "metadata": {
    "ExecuteTime": {
     "end_time": "2021-11-01T17:46:16.837867Z",
     "start_time": "2021-11-01T17:46:16.792988Z"
    }
   },
   "outputs": [
    {
     "data": {
      "text/html": [
       "<div>\n",
       "<style scoped>\n",
       "    .dataframe tbody tr th:only-of-type {\n",
       "        vertical-align: middle;\n",
       "    }\n",
       "\n",
       "    .dataframe tbody tr th {\n",
       "        vertical-align: top;\n",
       "    }\n",
       "\n",
       "    .dataframe thead th {\n",
       "        text-align: right;\n",
       "    }\n",
       "</style>\n",
       "<table border=\"1\" class=\"dataframe\">\n",
       "  <thead>\n",
       "    <tr style=\"text-align: right;\">\n",
       "      <th></th>\n",
       "      <th>Prev Close</th>\n",
       "      <th>Open</th>\n",
       "      <th>High</th>\n",
       "      <th>Low</th>\n",
       "      <th>Last</th>\n",
       "      <th>Close</th>\n",
       "      <th>VWAP</th>\n",
       "      <th>Volume</th>\n",
       "      <th>Turnover</th>\n",
       "      <th>Trades</th>\n",
       "      <th>Deliverable Volume</th>\n",
       "      <th>%Deliverble</th>\n",
       "    </tr>\n",
       "  </thead>\n",
       "  <tbody>\n",
       "    <tr>\n",
       "      <th>count</th>\n",
       "      <td>1692.000000</td>\n",
       "      <td>1692.000000</td>\n",
       "      <td>1692.000000</td>\n",
       "      <td>1692.000000</td>\n",
       "      <td>1692.000000</td>\n",
       "      <td>1692.000000</td>\n",
       "      <td>1692.000000</td>\n",
       "      <td>1.692000e+03</td>\n",
       "      <td>1.692000e+03</td>\n",
       "      <td>1.692000e+03</td>\n",
       "      <td>1.692000e+03</td>\n",
       "      <td>1692.000000</td>\n",
       "    </tr>\n",
       "    <tr>\n",
       "      <th>mean</th>\n",
       "      <td>1320.987766</td>\n",
       "      <td>1323.145095</td>\n",
       "      <td>1338.183747</td>\n",
       "      <td>1307.259781</td>\n",
       "      <td>1321.979994</td>\n",
       "      <td>1321.960963</td>\n",
       "      <td>1322.969362</td>\n",
       "      <td>7.966448e+06</td>\n",
       "      <td>1.166262e+15</td>\n",
       "      <td>1.814726e+05</td>\n",
       "      <td>3.320324e+06</td>\n",
       "      <td>0.470318</td>\n",
       "    </tr>\n",
       "    <tr>\n",
       "      <th>std</th>\n",
       "      <td>449.461542</td>\n",
       "      <td>451.507078</td>\n",
       "      <td>456.368452</td>\n",
       "      <td>445.322029</td>\n",
       "      <td>450.412387</td>\n",
       "      <td>450.312185</td>\n",
       "      <td>450.818048</td>\n",
       "      <td>7.052513e+06</td>\n",
       "      <td>1.308632e+15</td>\n",
       "      <td>1.478916e+05</td>\n",
       "      <td>2.313803e+06</td>\n",
       "      <td>0.127046</td>\n",
       "    </tr>\n",
       "    <tr>\n",
       "      <th>min</th>\n",
       "      <td>780.900000</td>\n",
       "      <td>791.750000</td>\n",
       "      <td>793.400000</td>\n",
       "      <td>779.100000</td>\n",
       "      <td>781.200000</td>\n",
       "      <td>780.900000</td>\n",
       "      <td>785.510000</td>\n",
       "      <td>2.995110e+05</td>\n",
       "      <td>2.781933e+13</td>\n",
       "      <td>8.723000e+03</td>\n",
       "      <td>9.803000e+04</td>\n",
       "      <td>0.114800</td>\n",
       "    </tr>\n",
       "    <tr>\n",
       "      <th>25%</th>\n",
       "      <td>972.212500</td>\n",
       "      <td>972.262500</td>\n",
       "      <td>982.375000</td>\n",
       "      <td>962.687500</td>\n",
       "      <td>973.187500</td>\n",
       "      <td>972.637500</td>\n",
       "      <td>973.527500</td>\n",
       "      <td>3.586045e+06</td>\n",
       "      <td>3.683792e+14</td>\n",
       "      <td>8.483525e+04</td>\n",
       "      <td>1.868678e+06</td>\n",
       "      <td>0.381400</td>\n",
       "    </tr>\n",
       "    <tr>\n",
       "      <th>50%</th>\n",
       "      <td>1154.350000</td>\n",
       "      <td>1154.500000</td>\n",
       "      <td>1179.625000</td>\n",
       "      <td>1139.650000</td>\n",
       "      <td>1158.075000</td>\n",
       "      <td>1155.800000</td>\n",
       "      <td>1160.005000</td>\n",
       "      <td>5.982310e+06</td>\n",
       "      <td>7.468584e+14</td>\n",
       "      <td>1.388905e+05</td>\n",
       "      <td>2.695104e+06</td>\n",
       "      <td>0.477550</td>\n",
       "    </tr>\n",
       "    <tr>\n",
       "      <th>75%</th>\n",
       "      <td>1534.250000</td>\n",
       "      <td>1540.412500</td>\n",
       "      <td>1550.000000</td>\n",
       "      <td>1523.175000</td>\n",
       "      <td>1535.925000</td>\n",
       "      <td>1535.400000</td>\n",
       "      <td>1535.515000</td>\n",
       "      <td>9.704896e+06</td>\n",
       "      <td>1.450907e+15</td>\n",
       "      <td>2.214178e+05</td>\n",
       "      <td>4.033852e+06</td>\n",
       "      <td>0.561100</td>\n",
       "    </tr>\n",
       "    <tr>\n",
       "      <th>max</th>\n",
       "      <td>2731.850000</td>\n",
       "      <td>2742.750000</td>\n",
       "      <td>2751.350000</td>\n",
       "      <td>2708.000000</td>\n",
       "      <td>2730.800000</td>\n",
       "      <td>2731.850000</td>\n",
       "      <td>2733.670000</td>\n",
       "      <td>6.523089e+07</td>\n",
       "      <td>1.473434e+16</td>\n",
       "      <td>1.428490e+06</td>\n",
       "      <td>1.919505e+07</td>\n",
       "      <td>0.827000</td>\n",
       "    </tr>\n",
       "  </tbody>\n",
       "</table>\n",
       "</div>"
      ],
      "text/plain": [
       "        Prev Close         Open         High          Low         Last  \\\n",
       "count  1692.000000  1692.000000  1692.000000  1692.000000  1692.000000   \n",
       "mean   1320.987766  1323.145095  1338.183747  1307.259781  1321.979994   \n",
       "std     449.461542   451.507078   456.368452   445.322029   450.412387   \n",
       "min     780.900000   791.750000   793.400000   779.100000   781.200000   \n",
       "25%     972.212500   972.262500   982.375000   962.687500   973.187500   \n",
       "50%    1154.350000  1154.500000  1179.625000  1139.650000  1158.075000   \n",
       "75%    1534.250000  1540.412500  1550.000000  1523.175000  1535.925000   \n",
       "max    2731.850000  2742.750000  2751.350000  2708.000000  2730.800000   \n",
       "\n",
       "             Close         VWAP        Volume      Turnover        Trades  \\\n",
       "count  1692.000000  1692.000000  1.692000e+03  1.692000e+03  1.692000e+03   \n",
       "mean   1321.960963  1322.969362  7.966448e+06  1.166262e+15  1.814726e+05   \n",
       "std     450.312185   450.818048  7.052513e+06  1.308632e+15  1.478916e+05   \n",
       "min     780.900000   785.510000  2.995110e+05  2.781933e+13  8.723000e+03   \n",
       "25%     972.637500   973.527500  3.586045e+06  3.683792e+14  8.483525e+04   \n",
       "50%    1155.800000  1160.005000  5.982310e+06  7.468584e+14  1.388905e+05   \n",
       "75%    1535.400000  1535.515000  9.704896e+06  1.450907e+15  2.214178e+05   \n",
       "max    2731.850000  2733.670000  6.523089e+07  1.473434e+16  1.428490e+06   \n",
       "\n",
       "       Deliverable Volume  %Deliverble  \n",
       "count        1.692000e+03  1692.000000  \n",
       "mean         3.320324e+06     0.470318  \n",
       "std          2.313803e+06     0.127046  \n",
       "min          9.803000e+04     0.114800  \n",
       "25%          1.868678e+06     0.381400  \n",
       "50%          2.695104e+06     0.477550  \n",
       "75%          4.033852e+06     0.561100  \n",
       "max          1.919505e+07     0.827000  "
      ]
     },
     "execution_count": 8,
     "metadata": {},
     "output_type": "execute_result"
    }
   ],
   "source": [
    "data1.describe()"
   ]
  },
  {
   "cell_type": "code",
   "execution_count": 9,
   "id": "4649cc5f",
   "metadata": {
    "ExecuteTime": {
     "end_time": "2021-11-01T17:46:16.853824Z",
     "start_time": "2021-11-01T17:46:16.838864Z"
    }
   },
   "outputs": [
    {
     "data": {
      "text/plain": [
       "(1692, 15)"
      ]
     },
     "execution_count": 9,
     "metadata": {},
     "output_type": "execute_result"
    }
   ],
   "source": [
    "data1.shape"
   ]
  },
  {
   "cell_type": "code",
   "execution_count": 10,
   "id": "d34ab0f8",
   "metadata": {
    "ExecuteTime": {
     "end_time": "2021-11-01T17:46:16.869781Z",
     "start_time": "2021-11-01T17:46:16.854821Z"
    }
   },
   "outputs": [
    {
     "data": {
      "text/plain": [
       "Date                   object\n",
       "Symbol                 object\n",
       "Series                 object\n",
       "Prev Close            float64\n",
       "Open                  float64\n",
       "High                  float64\n",
       "Low                   float64\n",
       "Last                  float64\n",
       "Close                 float64\n",
       "VWAP                  float64\n",
       "Volume                  int64\n",
       "Turnover              float64\n",
       "Trades                  int64\n",
       "Deliverable Volume      int64\n",
       "%Deliverble           float64\n",
       "dtype: object"
      ]
     },
     "execution_count": 10,
     "metadata": {},
     "output_type": "execute_result"
    }
   ],
   "source": [
    "data1.dtypes"
   ]
  },
  {
   "cell_type": "code",
   "execution_count": 11,
   "id": "f98ef945",
   "metadata": {
    "ExecuteTime": {
     "end_time": "2021-11-01T17:46:16.885738Z",
     "start_time": "2021-11-01T17:46:16.870779Z"
    }
   },
   "outputs": [
    {
     "name": "stdout",
     "output_type": "stream",
     "text": [
      "<class 'pandas.core.frame.DataFrame'>\n",
      "RangeIndex: 1692 entries, 0 to 1691\n",
      "Data columns (total 15 columns):\n",
      " #   Column              Non-Null Count  Dtype  \n",
      "---  ------              --------------  -----  \n",
      " 0   Date                1692 non-null   object \n",
      " 1   Symbol              1692 non-null   object \n",
      " 2   Series              1692 non-null   object \n",
      " 3   Prev Close          1692 non-null   float64\n",
      " 4   Open                1692 non-null   float64\n",
      " 5   High                1692 non-null   float64\n",
      " 6   Low                 1692 non-null   float64\n",
      " 7   Last                1692 non-null   float64\n",
      " 8   Close               1692 non-null   float64\n",
      " 9   VWAP                1692 non-null   float64\n",
      " 10  Volume              1692 non-null   int64  \n",
      " 11  Turnover            1692 non-null   float64\n",
      " 12  Trades              1692 non-null   int64  \n",
      " 13  Deliverable Volume  1692 non-null   int64  \n",
      " 14  %Deliverble         1692 non-null   float64\n",
      "dtypes: float64(9), int64(3), object(3)\n",
      "memory usage: 198.4+ KB\n"
     ]
    }
   ],
   "source": [
    "data1.info()"
   ]
  },
  {
   "cell_type": "markdown",
   "id": "6ff4b423",
   "metadata": {},
   "source": [
    "### checking the trend"
   ]
  },
  {
   "cell_type": "code",
   "execution_count": 12,
   "id": "fcdc777a",
   "metadata": {
    "ExecuteTime": {
     "end_time": "2021-11-01T17:46:17.044272Z",
     "start_time": "2021-11-01T17:46:16.887738Z"
    }
   },
   "outputs": [
    {
     "data": {
      "text/plain": [
       "Text(0, 0.5, 'Closing Price')"
      ]
     },
     "execution_count": 12,
     "metadata": {},
     "output_type": "execute_result"
    },
    {
     "data": {
      "image/png": "[encoded data removed]",
      "text/plain": [
       "<Figure size 720x576 with 1 Axes>"
      ]
     },
     "metadata": {
      "needs_background": "light"
     },
     "output_type": "display_data"
    }
   ],
   "source": [
    "figure = plt.figure(figsize = (10,8))\n",
    "plt.plot(data1.Close)\n",
    "plt.xlabel(\"Year of Date\")\n",
    "plt.ylabel(\"Closing Price\")"
   ]
  },
  {
   "cell_type": "code",
   "execution_count": 13,
   "id": "d3a358ef",
   "metadata": {
    "ExecuteTime": {
     "end_time": "2021-11-01T17:46:17.171212Z",
     "start_time": "2021-11-01T17:46:17.045237Z"
    }
   },
   "outputs": [
    {
     "data": {
      "text/plain": [
       "(array([434., 420., 273., 165.,  65.,  58., 166.,  71.,  20.,  20.]),\n",
       " array([ 780.9  ,  975.995, 1171.09 , 1366.185, 1561.28 , 1756.375,\n",
       "        1951.47 , 2146.565, 2341.66 , 2536.755, 2731.85 ]),\n",
       " <BarContainer object of 10 artists>)"
      ]
     },
     "execution_count": 13,
     "metadata": {},
     "output_type": "execute_result"
    },
    {
     "data": {
      "image/png": "[encoded data removed]",
      "text/plain": [
       "<Figure size 432x288 with 1 Axes>"
      ]
     },
     "metadata": {
      "needs_background": "light"
     },
     "output_type": "display_data"
    }
   ],
   "source": [
    "plt.hist(data1.Close)"
   ]
  },
  {
   "cell_type": "markdown",
   "id": "ff661ba9",
   "metadata": {},
   "source": [
    "### As the data is skewed lets apply some transformations"
   ]
  },
  {
   "cell_type": "code",
   "execution_count": 14,
   "id": "93fe21a1",
   "metadata": {
    "ExecuteTime": {
     "end_time": "2021-11-01T17:46:17.186171Z",
     "start_time": "2021-11-01T17:46:17.172208Z"
    }
   },
   "outputs": [
    {
     "data": {
      "text/plain": [
       "1.054778646448907"
      ]
     },
     "execution_count": 14,
     "metadata": {},
     "output_type": "execute_result"
    }
   ],
   "source": [
    "data1['Close'].skew()"
   ]
  },
  {
   "cell_type": "markdown",
   "id": "0e549990",
   "metadata": {},
   "source": [
    "### Log transformation"
   ]
  },
  {
   "cell_type": "code",
   "execution_count": 15,
   "id": "af5e0e84",
   "metadata": {
    "ExecuteTime": {
     "end_time": "2021-11-01T17:46:17.202132Z",
     "start_time": "2021-11-01T17:46:17.187169Z"
    }
   },
   "outputs": [],
   "source": [
    "close_log = np.log(data1['Close'])"
   ]
  },
  {
   "cell_type": "code",
   "execution_count": 16,
   "id": "4b9c8053",
   "metadata": {
    "ExecuteTime": {
     "end_time": "2021-11-01T17:46:17.218086Z",
     "start_time": "2021-11-01T17:46:17.203126Z"
    }
   },
   "outputs": [
    {
     "data": {
      "text/plain": [
       "0.6659640324682535"
      ]
     },
     "execution_count": 16,
     "metadata": {},
     "output_type": "execute_result"
    }
   ],
   "source": [
    "close_log.skew()"
   ]
  },
  {
   "cell_type": "markdown",
   "id": "04778184",
   "metadata": {},
   "source": [
    "The skewness reduced little"
   ]
  },
  {
   "cell_type": "code",
   "execution_count": 17,
   "id": "a45bad6c",
   "metadata": {
    "ExecuteTime": {
     "end_time": "2021-11-01T17:46:17.345744Z",
     "start_time": "2021-11-01T17:46:17.219083Z"
    }
   },
   "outputs": [
    {
     "data": {
      "text/plain": [
       "(array([120., 407., 307., 180., 205., 129.,  20., 200.,  91.,  33.]),\n",
       " array([6.6604471 , 6.78567582, 6.91090454, 7.03613326, 7.16136199,\n",
       "        7.28659071, 7.41181943, 7.53704815, 7.66227687, 7.78750559,\n",
       "        7.91273431]),\n",
       " <BarContainer object of 10 artists>)"
      ]
     },
     "execution_count": 17,
     "metadata": {},
     "output_type": "execute_result"
    },
    {
     "data": {
      "image/png": "[encoded data removed]",
      "text/plain": [
       "<Figure size 432x288 with 1 Axes>"
      ]
     },
     "metadata": {
      "needs_background": "light"
     },
     "output_type": "display_data"
    }
   ],
   "source": [
    "# plot_log\n",
    "plt.hist(close_log)"
   ]
  },
  {
   "cell_type": "markdown",
   "id": "cf1aeef5",
   "metadata": {},
   "source": [
    "### sqrt transformation"
   ]
  },
  {
   "cell_type": "code",
   "execution_count": 18,
   "id": "20eda737",
   "metadata": {
    "ExecuteTime": {
     "end_time": "2021-11-01T17:46:17.361736Z",
     "start_time": "2021-11-01T17:46:17.346741Z"
    }
   },
   "outputs": [
    {
     "data": {
      "text/plain": [
       "0.8579006792511565"
      ]
     },
     "execution_count": 18,
     "metadata": {},
     "output_type": "execute_result"
    }
   ],
   "source": [
    "close_sqrt = np.sqrt(data1['Close'])\n",
    "close_sqrt.skew()"
   ]
  },
  {
   "cell_type": "markdown",
   "id": "0d2ad8f6",
   "metadata": {},
   "source": [
    "Here after applying sqrt skewness increased than log transformation"
   ]
  },
  {
   "cell_type": "markdown",
   "id": "18069032",
   "metadata": {},
   "source": [
    "### box cox transformation"
   ]
  },
  {
   "cell_type": "code",
   "execution_count": 19,
   "id": "c5715b11",
   "metadata": {
    "ExecuteTime": {
     "end_time": "2021-11-01T17:46:17.377659Z",
     "start_time": "2021-11-01T17:46:17.362698Z"
    }
   },
   "outputs": [],
   "source": [
    "from scipy import stats\n",
    "close_box,lambda_ = stats.boxcox(data1['Close'])"
   ]
  },
  {
   "cell_type": "code",
   "execution_count": 20,
   "id": "ddcb5a5f",
   "metadata": {
    "ExecuteTime": {
     "end_time": "2021-11-01T17:46:17.393617Z",
     "start_time": "2021-11-01T17:46:17.378656Z"
    }
   },
   "outputs": [
    {
     "data": {
      "text/plain": [
       "0.178271864406059"
      ]
     },
     "execution_count": 20,
     "metadata": {},
     "output_type": "execute_result"
    }
   ],
   "source": [
    "pd.Series(close_box).skew()"
   ]
  },
  {
   "cell_type": "markdown",
   "id": "3a106d61",
   "metadata": {},
   "source": [
    "### This box cox is giving good result so we will go with box cox transformation"
   ]
  },
  {
   "cell_type": "code",
   "execution_count": 21,
   "id": "f3a76870",
   "metadata": {
    "ExecuteTime": {
     "end_time": "2021-11-01T17:46:17.521275Z",
     "start_time": "2021-11-01T17:46:17.395611Z"
    }
   },
   "outputs": [
    {
     "data": {
      "text/plain": [
       "(array([ 20., 119., 249., 289., 164., 170., 211., 128., 171., 171.]),\n",
       " array([0.74395692, 0.74396477, 0.74397261, 0.74398046, 0.74398831,\n",
       "        0.74399616, 0.744004  , 0.74401185, 0.7440197 , 0.74402754,\n",
       "        0.74403539]),\n",
       " <BarContainer object of 10 artists>)"
      ]
     },
     "execution_count": 21,
     "metadata": {},
     "output_type": "execute_result"
    },
    {
     "data": {
      "image/png": "[encoded data removed]",
      "text/plain": [
       "<Figure size 432x288 with 1 Axes>"
      ]
     },
     "metadata": {
      "needs_background": "light"
     },
     "output_type": "display_data"
    }
   ],
   "source": [
    "# plot box cox\n",
    "plt.hist(close_box)"
   ]
  },
  {
   "cell_type": "code",
   "execution_count": 22,
   "id": "a34ec378",
   "metadata": {
    "ExecuteTime": {
     "end_time": "2021-11-01T17:46:17.536234Z",
     "start_time": "2021-11-01T17:46:17.527258Z"
    }
   },
   "outputs": [],
   "source": [
    "data1['Close'] = close_box # Replacing the Close data with boxcox transformed one "
   ]
  },
  {
   "cell_type": "code",
   "execution_count": 23,
   "id": "c07bd1ce",
   "metadata": {
    "ExecuteTime": {
     "end_time": "2021-11-01T17:46:17.567151Z",
     "start_time": "2021-11-01T17:46:17.538229Z"
    }
   },
   "outputs": [
    {
     "data": {
      "text/html": [
       "<div>\n",
       "<style scoped>\n",
       "    .dataframe tbody tr th:only-of-type {\n",
       "        vertical-align: middle;\n",
       "    }\n",
       "\n",
       "    .dataframe tbody tr th {\n",
       "        vertical-align: top;\n",
       "    }\n",
       "\n",
       "    .dataframe thead th {\n",
       "        text-align: right;\n",
       "    }\n",
       "</style>\n",
       "<table border=\"1\" class=\"dataframe\">\n",
       "  <thead>\n",
       "    <tr style=\"text-align: right;\">\n",
       "      <th></th>\n",
       "      <th>Date</th>\n",
       "      <th>Symbol</th>\n",
       "      <th>Series</th>\n",
       "      <th>Prev Close</th>\n",
       "      <th>Open</th>\n",
       "      <th>High</th>\n",
       "      <th>Low</th>\n",
       "      <th>Last</th>\n",
       "      <th>Close</th>\n",
       "      <th>VWAP</th>\n",
       "      <th>Volume</th>\n",
       "      <th>Turnover</th>\n",
       "      <th>Trades</th>\n",
       "      <th>Deliverable Volume</th>\n",
       "      <th>%Deliverble</th>\n",
       "    </tr>\n",
       "  </thead>\n",
       "  <tbody>\n",
       "    <tr>\n",
       "      <th>0</th>\n",
       "      <td>2015-01-01</td>\n",
       "      <td>RELIANCE</td>\n",
       "      <td>EQ</td>\n",
       "      <td>891.15</td>\n",
       "      <td>886.3</td>\n",
       "      <td>892.00</td>\n",
       "      <td>883.65</td>\n",
       "      <td>888.00</td>\n",
       "      <td>0.743972</td>\n",
       "      <td>887.62</td>\n",
       "      <td>677439</td>\n",
       "      <td>6.013059e+13</td>\n",
       "      <td>16263</td>\n",
       "      <td>286377</td>\n",
       "      <td>0.4227</td>\n",
       "    </tr>\n",
       "    <tr>\n",
       "      <th>1</th>\n",
       "      <td>2015-01-02</td>\n",
       "      <td>RELIANCE</td>\n",
       "      <td>EQ</td>\n",
       "      <td>887.90</td>\n",
       "      <td>888.1</td>\n",
       "      <td>896.05</td>\n",
       "      <td>884.30</td>\n",
       "      <td>884.95</td>\n",
       "      <td>0.743972</td>\n",
       "      <td>889.39</td>\n",
       "      <td>1675827</td>\n",
       "      <td>1.490461e+14</td>\n",
       "      <td>31269</td>\n",
       "      <td>1048543</td>\n",
       "      <td>0.6257</td>\n",
       "    </tr>\n",
       "    <tr>\n",
       "      <th>2</th>\n",
       "      <td>2015-01-05</td>\n",
       "      <td>RELIANCE</td>\n",
       "      <td>EQ</td>\n",
       "      <td>885.55</td>\n",
       "      <td>885.0</td>\n",
       "      <td>890.90</td>\n",
       "      <td>874.10</td>\n",
       "      <td>875.55</td>\n",
       "      <td>0.743971</td>\n",
       "      <td>881.88</td>\n",
       "      <td>2309591</td>\n",
       "      <td>2.036781e+14</td>\n",
       "      <td>67035</td>\n",
       "      <td>1393132</td>\n",
       "      <td>0.6032</td>\n",
       "    </tr>\n",
       "    <tr>\n",
       "      <th>3</th>\n",
       "      <td>2015-01-06</td>\n",
       "      <td>RELIANCE</td>\n",
       "      <td>EQ</td>\n",
       "      <td>875.85</td>\n",
       "      <td>870.0</td>\n",
       "      <td>873.00</td>\n",
       "      <td>832.00</td>\n",
       "      <td>832.50</td>\n",
       "      <td>0.743965</td>\n",
       "      <td>847.60</td>\n",
       "      <td>4258043</td>\n",
       "      <td>3.609133e+14</td>\n",
       "      <td>120767</td>\n",
       "      <td>2353273</td>\n",
       "      <td>0.5527</td>\n",
       "    </tr>\n",
       "    <tr>\n",
       "      <th>4</th>\n",
       "      <td>2015-01-07</td>\n",
       "      <td>RELIANCE</td>\n",
       "      <td>EQ</td>\n",
       "      <td>836.10</td>\n",
       "      <td>837.1</td>\n",
       "      <td>858.80</td>\n",
       "      <td>837.00</td>\n",
       "      <td>858.00</td>\n",
       "      <td>0.743968</td>\n",
       "      <td>849.81</td>\n",
       "      <td>4736315</td>\n",
       "      <td>4.024972e+14</td>\n",
       "      <td>125939</td>\n",
       "      <td>2885468</td>\n",
       "      <td>0.6092</td>\n",
       "    </tr>\n",
       "  </tbody>\n",
       "</table>\n",
       "</div>"
      ],
      "text/plain": [
       "         Date    Symbol Series  Prev Close   Open    High     Low    Last  \\\n",
       "0  2015-01-01  RELIANCE     EQ      891.15  886.3  892.00  883.65  888.00   \n",
       "1  2015-01-02  RELIANCE     EQ      887.90  888.1  896.05  884.30  884.95   \n",
       "2  2015-01-05  RELIANCE     EQ      885.55  885.0  890.90  874.10  875.55   \n",
       "3  2015-01-06  RELIANCE     EQ      875.85  870.0  873.00  832.00  832.50   \n",
       "4  2015-01-07  RELIANCE     EQ      836.10  837.1  858.80  837.00  858.00   \n",
       "\n",
       "      Close    VWAP   Volume      Turnover  Trades  Deliverable Volume  \\\n",
       "0  0.743972  887.62   677439  6.013059e+13   16263              286377   \n",
       "1  0.743972  889.39  1675827  1.490461e+14   31269             1048543   \n",
       "2  0.743971  881.88  2309591  2.036781e+14   67035             1393132   \n",
       "3  0.743965  847.60  4258043  3.609133e+14  120767             2353273   \n",
       "4  0.743968  849.81  4736315  4.024972e+14  125939             2885468   \n",
       "\n",
       "   %Deliverble  \n",
       "0       0.4227  \n",
       "1       0.6257  \n",
       "2       0.6032  \n",
       "3       0.5527  \n",
       "4       0.6092  "
      ]
     },
     "execution_count": 23,
     "metadata": {},
     "output_type": "execute_result"
    }
   ],
   "source": [
    "data1.head()"
   ]
  },
  {
   "cell_type": "markdown",
   "id": "7e00417b",
   "metadata": {},
   "source": [
    "### Converting Date column into year , month and day"
   ]
  },
  {
   "cell_type": "code",
   "execution_count": 24,
   "id": "414ab0a8",
   "metadata": {
    "ExecuteTime": {
     "end_time": "2021-11-01T17:46:17.615028Z",
     "start_time": "2021-11-01T17:46:17.568149Z"
    }
   },
   "outputs": [],
   "source": [
    "data1[\"Date\"] = pd.to_datetime(data1.Date,format=\"%Y-%m-%d\")\n",
    "\n",
    "data1[\"month\"] = data1.Date.dt.strftime(\"%m\") # month extraction\n",
    "data1[\"year\"] = data1.Date.dt.strftime(\"%Y\") # year extraction\n",
    "data1[\"day\"] = data1.Date.dt.strftime(\"%d\") # day extraction\n"
   ]
  },
  {
   "cell_type": "code",
   "execution_count": 25,
   "id": "c213a481",
   "metadata": {
    "ExecuteTime": {
     "end_time": "2021-11-01T17:46:17.661898Z",
     "start_time": "2021-11-01T17:46:17.618017Z"
    }
   },
   "outputs": [
    {
     "data": {
      "text/html": [
       "<div>\n",
       "<style scoped>\n",
       "    .dataframe tbody tr th:only-of-type {\n",
       "        vertical-align: middle;\n",
       "    }\n",
       "\n",
       "    .dataframe tbody tr th {\n",
       "        vertical-align: top;\n",
       "    }\n",
       "\n",
       "    .dataframe thead th {\n",
       "        text-align: right;\n",
       "    }\n",
       "</style>\n",
       "<table border=\"1\" class=\"dataframe\">\n",
       "  <thead>\n",
       "    <tr style=\"text-align: right;\">\n",
       "      <th></th>\n",
       "      <th>Date</th>\n",
       "      <th>Symbol</th>\n",
       "      <th>Series</th>\n",
       "      <th>Prev Close</th>\n",
       "      <th>Open</th>\n",
       "      <th>High</th>\n",
       "      <th>Low</th>\n",
       "      <th>Last</th>\n",
       "      <th>Close</th>\n",
       "      <th>VWAP</th>\n",
       "      <th>Volume</th>\n",
       "      <th>Turnover</th>\n",
       "      <th>Trades</th>\n",
       "      <th>Deliverable Volume</th>\n",
       "      <th>%Deliverble</th>\n",
       "      <th>month</th>\n",
       "      <th>year</th>\n",
       "      <th>day</th>\n",
       "    </tr>\n",
       "  </thead>\n",
       "  <tbody>\n",
       "    <tr>\n",
       "      <th>0</th>\n",
       "      <td>2015-01-01</td>\n",
       "      <td>RELIANCE</td>\n",
       "      <td>EQ</td>\n",
       "      <td>891.15</td>\n",
       "      <td>886.30</td>\n",
       "      <td>892.00</td>\n",
       "      <td>883.65</td>\n",
       "      <td>888.00</td>\n",
       "      <td>0.743972</td>\n",
       "      <td>887.62</td>\n",
       "      <td>677439</td>\n",
       "      <td>6.013059e+13</td>\n",
       "      <td>16263</td>\n",
       "      <td>286377</td>\n",
       "      <td>0.4227</td>\n",
       "      <td>01</td>\n",
       "      <td>2015</td>\n",
       "      <td>01</td>\n",
       "    </tr>\n",
       "    <tr>\n",
       "      <th>1</th>\n",
       "      <td>2015-01-02</td>\n",
       "      <td>RELIANCE</td>\n",
       "      <td>EQ</td>\n",
       "      <td>887.90</td>\n",
       "      <td>888.10</td>\n",
       "      <td>896.05</td>\n",
       "      <td>884.30</td>\n",
       "      <td>884.95</td>\n",
       "      <td>0.743972</td>\n",
       "      <td>889.39</td>\n",
       "      <td>1675827</td>\n",
       "      <td>1.490461e+14</td>\n",
       "      <td>31269</td>\n",
       "      <td>1048543</td>\n",
       "      <td>0.6257</td>\n",
       "      <td>01</td>\n",
       "      <td>2015</td>\n",
       "      <td>02</td>\n",
       "    </tr>\n",
       "    <tr>\n",
       "      <th>2</th>\n",
       "      <td>2015-01-05</td>\n",
       "      <td>RELIANCE</td>\n",
       "      <td>EQ</td>\n",
       "      <td>885.55</td>\n",
       "      <td>885.00</td>\n",
       "      <td>890.90</td>\n",
       "      <td>874.10</td>\n",
       "      <td>875.55</td>\n",
       "      <td>0.743971</td>\n",
       "      <td>881.88</td>\n",
       "      <td>2309591</td>\n",
       "      <td>2.036781e+14</td>\n",
       "      <td>67035</td>\n",
       "      <td>1393132</td>\n",
       "      <td>0.6032</td>\n",
       "      <td>01</td>\n",
       "      <td>2015</td>\n",
       "      <td>05</td>\n",
       "    </tr>\n",
       "    <tr>\n",
       "      <th>3</th>\n",
       "      <td>2015-01-06</td>\n",
       "      <td>RELIANCE</td>\n",
       "      <td>EQ</td>\n",
       "      <td>875.85</td>\n",
       "      <td>870.00</td>\n",
       "      <td>873.00</td>\n",
       "      <td>832.00</td>\n",
       "      <td>832.50</td>\n",
       "      <td>0.743965</td>\n",
       "      <td>847.60</td>\n",
       "      <td>4258043</td>\n",
       "      <td>3.609133e+14</td>\n",
       "      <td>120767</td>\n",
       "      <td>2353273</td>\n",
       "      <td>0.5527</td>\n",
       "      <td>01</td>\n",
       "      <td>2015</td>\n",
       "      <td>06</td>\n",
       "    </tr>\n",
       "    <tr>\n",
       "      <th>4</th>\n",
       "      <td>2015-01-07</td>\n",
       "      <td>RELIANCE</td>\n",
       "      <td>EQ</td>\n",
       "      <td>836.10</td>\n",
       "      <td>837.10</td>\n",
       "      <td>858.80</td>\n",
       "      <td>837.00</td>\n",
       "      <td>858.00</td>\n",
       "      <td>0.743968</td>\n",
       "      <td>849.81</td>\n",
       "      <td>4736315</td>\n",
       "      <td>4.024972e+14</td>\n",
       "      <td>125939</td>\n",
       "      <td>2885468</td>\n",
       "      <td>0.6092</td>\n",
       "      <td>01</td>\n",
       "      <td>2015</td>\n",
       "      <td>07</td>\n",
       "    </tr>\n",
       "    <tr>\n",
       "      <th>...</th>\n",
       "      <td>...</td>\n",
       "      <td>...</td>\n",
       "      <td>...</td>\n",
       "      <td>...</td>\n",
       "      <td>...</td>\n",
       "      <td>...</td>\n",
       "      <td>...</td>\n",
       "      <td>...</td>\n",
       "      <td>...</td>\n",
       "      <td>...</td>\n",
       "      <td>...</td>\n",
       "      <td>...</td>\n",
       "      <td>...</td>\n",
       "      <td>...</td>\n",
       "      <td>...</td>\n",
       "      <td>...</td>\n",
       "      <td>...</td>\n",
       "      <td>...</td>\n",
       "    </tr>\n",
       "    <tr>\n",
       "      <th>1687</th>\n",
       "      <td>2021-10-26</td>\n",
       "      <td>RELIANCE</td>\n",
       "      <td>EQ</td>\n",
       "      <td>2601.80</td>\n",
       "      <td>2617.10</td>\n",
       "      <td>2668.90</td>\n",
       "      <td>2603.15</td>\n",
       "      <td>2666.30</td>\n",
       "      <td>0.744035</td>\n",
       "      <td>2635.70</td>\n",
       "      <td>4499706</td>\n",
       "      <td>1.185986e+15</td>\n",
       "      <td>199021</td>\n",
       "      <td>2113316</td>\n",
       "      <td>0.4697</td>\n",
       "      <td>10</td>\n",
       "      <td>2021</td>\n",
       "      <td>26</td>\n",
       "    </tr>\n",
       "    <tr>\n",
       "      <th>1688</th>\n",
       "      <td>2021-10-27</td>\n",
       "      <td>RELIANCE</td>\n",
       "      <td>EQ</td>\n",
       "      <td>2661.05</td>\n",
       "      <td>2652.00</td>\n",
       "      <td>2676.80</td>\n",
       "      <td>2619.95</td>\n",
       "      <td>2622.30</td>\n",
       "      <td>0.744034</td>\n",
       "      <td>2652.28</td>\n",
       "      <td>4567140</td>\n",
       "      <td>1.211333e+15</td>\n",
       "      <td>176020</td>\n",
       "      <td>2090011</td>\n",
       "      <td>0.4576</td>\n",
       "      <td>10</td>\n",
       "      <td>2021</td>\n",
       "      <td>27</td>\n",
       "    </tr>\n",
       "    <tr>\n",
       "      <th>1689</th>\n",
       "      <td>2021-10-28</td>\n",
       "      <td>RELIANCE</td>\n",
       "      <td>EQ</td>\n",
       "      <td>2627.40</td>\n",
       "      <td>2620.00</td>\n",
       "      <td>2637.95</td>\n",
       "      <td>2590.50</td>\n",
       "      <td>2598.00</td>\n",
       "      <td>0.744034</td>\n",
       "      <td>2610.69</td>\n",
       "      <td>4562471</td>\n",
       "      <td>1.191119e+15</td>\n",
       "      <td>170822</td>\n",
       "      <td>2460989</td>\n",
       "      <td>0.5394</td>\n",
       "      <td>10</td>\n",
       "      <td>2021</td>\n",
       "      <td>28</td>\n",
       "    </tr>\n",
       "    <tr>\n",
       "      <th>1690</th>\n",
       "      <td>2021-10-29</td>\n",
       "      <td>RELIANCE</td>\n",
       "      <td>EQ</td>\n",
       "      <td>2598.60</td>\n",
       "      <td>2596.15</td>\n",
       "      <td>2596.15</td>\n",
       "      <td>2501.70</td>\n",
       "      <td>2540.00</td>\n",
       "      <td>0.744034</td>\n",
       "      <td>2548.04</td>\n",
       "      <td>6568539</td>\n",
       "      <td>1.673689e+15</td>\n",
       "      <td>277855</td>\n",
       "      <td>3111491</td>\n",
       "      <td>0.4737</td>\n",
       "      <td>10</td>\n",
       "      <td>2021</td>\n",
       "      <td>29</td>\n",
       "    </tr>\n",
       "    <tr>\n",
       "      <th>1691</th>\n",
       "      <td>2021-11-01</td>\n",
       "      <td>RELIANCE</td>\n",
       "      <td>EQ</td>\n",
       "      <td>2536.25</td>\n",
       "      <td>2536.25</td>\n",
       "      <td>2556.00</td>\n",
       "      <td>2494.10</td>\n",
       "      <td>2538.10</td>\n",
       "      <td>0.744034</td>\n",
       "      <td>2523.59</td>\n",
       "      <td>7144532</td>\n",
       "      <td>1.802989e+15</td>\n",
       "      <td>273829</td>\n",
       "      <td>4144630</td>\n",
       "      <td>0.5801</td>\n",
       "      <td>11</td>\n",
       "      <td>2021</td>\n",
       "      <td>01</td>\n",
       "    </tr>\n",
       "  </tbody>\n",
       "</table>\n",
       "<p>1692 rows × 18 columns</p>\n",
       "</div>"
      ],
      "text/plain": [
       "           Date    Symbol Series  Prev Close     Open     High      Low  \\\n",
       "0    2015-01-01  RELIANCE     EQ      891.15   886.30   892.00   883.65   \n",
       "1    2015-01-02  RELIANCE     EQ      887.90   888.10   896.05   884.30   \n",
       "2    2015-01-05  RELIANCE     EQ      885.55   885.00   890.90   874.10   \n",
       "3    2015-01-06  RELIANCE     EQ      875.85   870.00   873.00   832.00   \n",
       "4    2015-01-07  RELIANCE     EQ      836.10   837.10   858.80   837.00   \n",
       "...         ...       ...    ...         ...      ...      ...      ...   \n",
       "1687 2021-10-26  RELIANCE     EQ     2601.80  2617.10  2668.90  2603.15   \n",
       "1688 2021-10-27  RELIANCE     EQ     2661.05  2652.00  2676.80  2619.95   \n",
       "1689 2021-10-28  RELIANCE     EQ     2627.40  2620.00  2637.95  2590.50   \n",
       "1690 2021-10-29  RELIANCE     EQ     2598.60  2596.15  2596.15  2501.70   \n",
       "1691 2021-11-01  RELIANCE     EQ     2536.25  2536.25  2556.00  2494.10   \n",
       "\n",
       "         Last     Close     VWAP   Volume      Turnover  Trades  \\\n",
       "0      888.00  0.743972   887.62   677439  6.013059e+13   16263   \n",
       "1      884.95  0.743972   889.39  1675827  1.490461e+14   31269   \n",
       "2      875.55  0.743971   881.88  2309591  2.036781e+14   67035   \n",
       "3      832.50  0.743965   847.60  4258043  3.609133e+14  120767   \n",
       "4      858.00  0.743968   849.81  4736315  4.024972e+14  125939   \n",
       "...       ...       ...      ...      ...           ...     ...   \n",
       "1687  2666.30  0.744035  2635.70  4499706  1.185986e+15  199021   \n",
       "1688  2622.30  0.744034  2652.28  4567140  1.211333e+15  176020   \n",
       "1689  2598.00  0.744034  2610.69  4562471  1.191119e+15  170822   \n",
       "1690  2540.00  0.744034  2548.04  6568539  1.673689e+15  277855   \n",
       "1691  2538.10  0.744034  2523.59  7144532  1.802989e+15  273829   \n",
       "\n",
       "      Deliverable Volume  %Deliverble month  year day  \n",
       "0                 286377       0.4227    01  2015  01  \n",
       "1                1048543       0.6257    01  2015  02  \n",
       "2                1393132       0.6032    01  2015  05  \n",
       "3                2353273       0.5527    01  2015  06  \n",
       "4                2885468       0.6092    01  2015  07  \n",
       "...                  ...          ...   ...   ...  ..  \n",
       "1687             2113316       0.4697    10  2021  26  \n",
       "1688             2090011       0.4576    10  2021  27  \n",
       "1689             2460989       0.5394    10  2021  28  \n",
       "1690             3111491       0.4737    10  2021  29  \n",
       "1691             4144630       0.5801    11  2021  01  \n",
       "\n",
       "[1692 rows x 18 columns]"
      ]
     },
     "execution_count": 25,
     "metadata": {},
     "output_type": "execute_result"
    }
   ],
   "source": [
    "data1"
   ]
  },
  {
   "cell_type": "code",
   "execution_count": 26,
   "id": "78f6203d",
   "metadata": {
    "ExecuteTime": {
     "end_time": "2021-11-01T17:46:17.677871Z",
     "start_time": "2021-11-01T17:46:17.662895Z"
    }
   },
   "outputs": [],
   "source": [
    "new_data = data1[['Date','Close']]"
   ]
  },
  {
   "cell_type": "code",
   "execution_count": 27,
   "id": "d89fb5c8",
   "metadata": {
    "ExecuteTime": {
     "end_time": "2021-11-01T17:46:17.693812Z",
     "start_time": "2021-11-01T17:46:17.680847Z"
    }
   },
   "outputs": [
    {
     "data": {
      "text/html": [
       "<div>\n",
       "<style scoped>\n",
       "    .dataframe tbody tr th:only-of-type {\n",
       "        vertical-align: middle;\n",
       "    }\n",
       "\n",
       "    .dataframe tbody tr th {\n",
       "        vertical-align: top;\n",
       "    }\n",
       "\n",
       "    .dataframe thead th {\n",
       "        text-align: right;\n",
       "    }\n",
       "</style>\n",
       "<table border=\"1\" class=\"dataframe\">\n",
       "  <thead>\n",
       "    <tr style=\"text-align: right;\">\n",
       "      <th></th>\n",
       "      <th>Date</th>\n",
       "      <th>Close</th>\n",
       "    </tr>\n",
       "  </thead>\n",
       "  <tbody>\n",
       "    <tr>\n",
       "      <th>0</th>\n",
       "      <td>2015-01-01</td>\n",
       "      <td>0.743972</td>\n",
       "    </tr>\n",
       "    <tr>\n",
       "      <th>1</th>\n",
       "      <td>2015-01-02</td>\n",
       "      <td>0.743972</td>\n",
       "    </tr>\n",
       "    <tr>\n",
       "      <th>2</th>\n",
       "      <td>2015-01-05</td>\n",
       "      <td>0.743971</td>\n",
       "    </tr>\n",
       "    <tr>\n",
       "      <th>3</th>\n",
       "      <td>2015-01-06</td>\n",
       "      <td>0.743965</td>\n",
       "    </tr>\n",
       "    <tr>\n",
       "      <th>4</th>\n",
       "      <td>2015-01-07</td>\n",
       "      <td>0.743968</td>\n",
       "    </tr>\n",
       "    <tr>\n",
       "      <th>...</th>\n",
       "      <td>...</td>\n",
       "      <td>...</td>\n",
       "    </tr>\n",
       "    <tr>\n",
       "      <th>1687</th>\n",
       "      <td>2021-10-26</td>\n",
       "      <td>0.744035</td>\n",
       "    </tr>\n",
       "    <tr>\n",
       "      <th>1688</th>\n",
       "      <td>2021-10-27</td>\n",
       "      <td>0.744034</td>\n",
       "    </tr>\n",
       "    <tr>\n",
       "      <th>1689</th>\n",
       "      <td>2021-10-28</td>\n",
       "      <td>0.744034</td>\n",
       "    </tr>\n",
       "    <tr>\n",
       "      <th>1690</th>\n",
       "      <td>2021-10-29</td>\n",
       "      <td>0.744034</td>\n",
       "    </tr>\n",
       "    <tr>\n",
       "      <th>1691</th>\n",
       "      <td>2021-11-01</td>\n",
       "      <td>0.744034</td>\n",
       "    </tr>\n",
       "  </tbody>\n",
       "</table>\n",
       "<p>1692 rows × 2 columns</p>\n",
       "</div>"
      ],
      "text/plain": [
       "           Date     Close\n",
       "0    2015-01-01  0.743972\n",
       "1    2015-01-02  0.743972\n",
       "2    2015-01-05  0.743971\n",
       "3    2015-01-06  0.743965\n",
       "4    2015-01-07  0.743968\n",
       "...         ...       ...\n",
       "1687 2021-10-26  0.744035\n",
       "1688 2021-10-27  0.744034\n",
       "1689 2021-10-28  0.744034\n",
       "1690 2021-10-29  0.744034\n",
       "1691 2021-11-01  0.744034\n",
       "\n",
       "[1692 rows x 2 columns]"
      ]
     },
     "execution_count": 27,
     "metadata": {},
     "output_type": "execute_result"
    }
   ],
   "source": [
    "new_data"
   ]
  },
  {
   "cell_type": "code",
   "execution_count": 28,
   "id": "17b99c7d",
   "metadata": {
    "ExecuteTime": {
     "end_time": "2021-11-01T17:46:17.709770Z",
     "start_time": "2021-11-01T17:46:17.695807Z"
    }
   },
   "outputs": [],
   "source": [
    "new_data = data1[['Date','Close','year','month','day']]"
   ]
  },
  {
   "cell_type": "code",
   "execution_count": 29,
   "id": "5a4ecbdb",
   "metadata": {
    "ExecuteTime": {
     "end_time": "2021-11-01T17:46:17.725727Z",
     "start_time": "2021-11-01T17:46:17.710767Z"
    }
   },
   "outputs": [
    {
     "data": {
      "text/html": [
       "<div>\n",
       "<style scoped>\n",
       "    .dataframe tbody tr th:only-of-type {\n",
       "        vertical-align: middle;\n",
       "    }\n",
       "\n",
       "    .dataframe tbody tr th {\n",
       "        vertical-align: top;\n",
       "    }\n",
       "\n",
       "    .dataframe thead th {\n",
       "        text-align: right;\n",
       "    }\n",
       "</style>\n",
       "<table border=\"1\" class=\"dataframe\">\n",
       "  <thead>\n",
       "    <tr style=\"text-align: right;\">\n",
       "      <th></th>\n",
       "      <th>Date</th>\n",
       "      <th>Close</th>\n",
       "      <th>year</th>\n",
       "      <th>month</th>\n",
       "      <th>day</th>\n",
       "    </tr>\n",
       "  </thead>\n",
       "  <tbody>\n",
       "    <tr>\n",
       "      <th>0</th>\n",
       "      <td>2015-01-01</td>\n",
       "      <td>0.743972</td>\n",
       "      <td>2015</td>\n",
       "      <td>01</td>\n",
       "      <td>01</td>\n",
       "    </tr>\n",
       "    <tr>\n",
       "      <th>1</th>\n",
       "      <td>2015-01-02</td>\n",
       "      <td>0.743972</td>\n",
       "      <td>2015</td>\n",
       "      <td>01</td>\n",
       "      <td>02</td>\n",
       "    </tr>\n",
       "    <tr>\n",
       "      <th>2</th>\n",
       "      <td>2015-01-05</td>\n",
       "      <td>0.743971</td>\n",
       "      <td>2015</td>\n",
       "      <td>01</td>\n",
       "      <td>05</td>\n",
       "    </tr>\n",
       "    <tr>\n",
       "      <th>3</th>\n",
       "      <td>2015-01-06</td>\n",
       "      <td>0.743965</td>\n",
       "      <td>2015</td>\n",
       "      <td>01</td>\n",
       "      <td>06</td>\n",
       "    </tr>\n",
       "    <tr>\n",
       "      <th>4</th>\n",
       "      <td>2015-01-07</td>\n",
       "      <td>0.743968</td>\n",
       "      <td>2015</td>\n",
       "      <td>01</td>\n",
       "      <td>07</td>\n",
       "    </tr>\n",
       "    <tr>\n",
       "      <th>...</th>\n",
       "      <td>...</td>\n",
       "      <td>...</td>\n",
       "      <td>...</td>\n",
       "      <td>...</td>\n",
       "      <td>...</td>\n",
       "    </tr>\n",
       "    <tr>\n",
       "      <th>1687</th>\n",
       "      <td>2021-10-26</td>\n",
       "      <td>0.744035</td>\n",
       "      <td>2021</td>\n",
       "      <td>10</td>\n",
       "      <td>26</td>\n",
       "    </tr>\n",
       "    <tr>\n",
       "      <th>1688</th>\n",
       "      <td>2021-10-27</td>\n",
       "      <td>0.744034</td>\n",
       "      <td>2021</td>\n",
       "      <td>10</td>\n",
       "      <td>27</td>\n",
       "    </tr>\n",
       "    <tr>\n",
       "      <th>1689</th>\n",
       "      <td>2021-10-28</td>\n",
       "      <td>0.744034</td>\n",
       "      <td>2021</td>\n",
       "      <td>10</td>\n",
       "      <td>28</td>\n",
       "    </tr>\n",
       "    <tr>\n",
       "      <th>1690</th>\n",
       "      <td>2021-10-29</td>\n",
       "      <td>0.744034</td>\n",
       "      <td>2021</td>\n",
       "      <td>10</td>\n",
       "      <td>29</td>\n",
       "    </tr>\n",
       "    <tr>\n",
       "      <th>1691</th>\n",
       "      <td>2021-11-01</td>\n",
       "      <td>0.744034</td>\n",
       "      <td>2021</td>\n",
       "      <td>11</td>\n",
       "      <td>01</td>\n",
       "    </tr>\n",
       "  </tbody>\n",
       "</table>\n",
       "<p>1692 rows × 5 columns</p>\n",
       "</div>"
      ],
      "text/plain": [
       "           Date     Close  year month day\n",
       "0    2015-01-01  0.743972  2015    01  01\n",
       "1    2015-01-02  0.743972  2015    01  02\n",
       "2    2015-01-05  0.743971  2015    01  05\n",
       "3    2015-01-06  0.743965  2015    01  06\n",
       "4    2015-01-07  0.743968  2015    01  07\n",
       "...         ...       ...   ...   ...  ..\n",
       "1687 2021-10-26  0.744035  2021    10  26\n",
       "1688 2021-10-27  0.744034  2021    10  27\n",
       "1689 2021-10-28  0.744034  2021    10  28\n",
       "1690 2021-10-29  0.744034  2021    10  29\n",
       "1691 2021-11-01  0.744034  2021    11  01\n",
       "\n",
       "[1692 rows x 5 columns]"
      ]
     },
     "execution_count": 29,
     "metadata": {},
     "output_type": "execute_result"
    }
   ],
   "source": [
    "new_data"
   ]
  },
  {
   "cell_type": "code",
   "execution_count": 30,
   "id": "a4c70475",
   "metadata": {
    "ExecuteTime": {
     "end_time": "2021-11-01T17:46:17.741685Z",
     "start_time": "2021-11-01T17:46:17.726724Z"
    }
   },
   "outputs": [],
   "source": [
    "new_data = new_data.set_index(['Date'])"
   ]
  },
  {
   "cell_type": "markdown",
   "id": "5a49309a",
   "metadata": {},
   "source": [
    "### # converting the column to specific datatypes"
   ]
  },
  {
   "cell_type": "code",
   "execution_count": 31,
   "id": "e074f288",
   "metadata": {
    "ExecuteTime": {
     "end_time": "2021-11-01T17:46:17.757641Z",
     "start_time": "2021-11-01T17:46:17.743679Z"
    }
   },
   "outputs": [],
   "source": [
    "new_data['Close'] = pd.to_numeric(new_data['Close'])\n",
    "new_data['month'] = pd.to_numeric(new_data['month'])\n",
    "new_data['day']   = pd.to_numeric(new_data['day'])\n",
    "new_data['year']  = pd.to_numeric(new_data['year'])"
   ]
  },
  {
   "cell_type": "markdown",
   "id": "455bc039",
   "metadata": {},
   "source": [
    "### Boxplot for year wise, month wise and day wise data "
   ]
  },
  {
   "cell_type": "code",
   "execution_count": 32,
   "id": "12924725",
   "metadata": {
    "ExecuteTime": {
     "end_time": "2021-11-01T17:46:18.665078Z",
     "start_time": "2021-11-01T17:46:17.758639Z"
    }
   },
   "outputs": [
    {
     "data": {
      "text/plain": [
       "<AxesSubplot:xlabel='day', ylabel='Close'>"
      ]
     },
     "execution_count": 32,
     "metadata": {},
     "output_type": "execute_result"
    },
    {
     "data": {
      "image/png": "[encoded data removed]",
      "text/plain": [
       "<Figure size 1440x1080 with 3 Axes>"
      ]
     },
     "metadata": {
      "needs_background": "light"
     },
     "output_type": "display_data"
    }
   ],
   "source": [
    "plt.figure(figsize=(20,15))\n",
    "plt.subplot(311)\n",
    "sns.boxplot(x=\"year\",y=\"Close\",data=new_data)\n",
    "plt.subplot(312)\n",
    "sns.boxplot(x=\"month\",y=\"Close\",data=new_data)\n",
    "plt.subplot(313)\n",
    "sns.boxplot(x = 'day', y = 'Close', data = new_data)"
   ]
  },
  {
   "cell_type": "markdown",
   "id": "468428fd",
   "metadata": {},
   "source": [
    "# LSTM model"
   ]
  },
  {
   "cell_type": "code",
   "execution_count": 33,
   "id": "9c6fc79c",
   "metadata": {
    "ExecuteTime": {
     "end_time": "2021-11-01T17:46:20.851208Z",
     "start_time": "2021-11-01T17:46:18.668063Z"
    }
   },
   "outputs": [],
   "source": [
    "#importing required libraries\n",
    "from sklearn.preprocessing import MinMaxScaler\n",
    "from keras.models import Sequential\n",
    "from keras.layers import Dense, Dropout, LSTM"
   ]
  },
  {
   "cell_type": "markdown",
   "id": "582a5970",
   "metadata": {},
   "source": [
    "#### Dropping non relevent columns"
   ]
  },
  {
   "cell_type": "code",
   "execution_count": 34,
   "id": "8b0e7687",
   "metadata": {
    "ExecuteTime": {
     "end_time": "2021-11-01T17:46:20.866533Z",
     "start_time": "2021-11-01T17:46:20.852208Z"
    }
   },
   "outputs": [],
   "source": [
    "data =data.drop(columns = {'Symbol', 'Series', 'Prev Close', 'Open', 'High', 'Low', 'Last',\n",
    "        'VWAP', 'Volume', 'Turnover', 'Trades', 'Deliverable Volume',\n",
    "       '%Deliverble'})"
   ]
  },
  {
   "cell_type": "code",
   "execution_count": 35,
   "id": "cf04936c",
   "metadata": {
    "ExecuteTime": {
     "end_time": "2021-11-01T17:46:20.882490Z",
     "start_time": "2021-11-01T17:46:20.867531Z"
    }
   },
   "outputs": [
    {
     "data": {
      "text/html": [
       "<div>\n",
       "<style scoped>\n",
       "    .dataframe tbody tr th:only-of-type {\n",
       "        vertical-align: middle;\n",
       "    }\n",
       "\n",
       "    .dataframe tbody tr th {\n",
       "        vertical-align: top;\n",
       "    }\n",
       "\n",
       "    .dataframe thead th {\n",
       "        text-align: right;\n",
       "    }\n",
       "</style>\n",
       "<table border=\"1\" class=\"dataframe\">\n",
       "  <thead>\n",
       "    <tr style=\"text-align: right;\">\n",
       "      <th></th>\n",
       "      <th>Close</th>\n",
       "    </tr>\n",
       "    <tr>\n",
       "      <th>Date</th>\n",
       "      <th></th>\n",
       "    </tr>\n",
       "  </thead>\n",
       "  <tbody>\n",
       "    <tr>\n",
       "      <th>2015-01-01</th>\n",
       "      <td>887.90</td>\n",
       "    </tr>\n",
       "    <tr>\n",
       "      <th>2015-01-02</th>\n",
       "      <td>885.55</td>\n",
       "    </tr>\n",
       "    <tr>\n",
       "      <th>2015-01-05</th>\n",
       "      <td>875.85</td>\n",
       "    </tr>\n",
       "    <tr>\n",
       "      <th>2015-01-06</th>\n",
       "      <td>836.10</td>\n",
       "    </tr>\n",
       "    <tr>\n",
       "      <th>2015-01-07</th>\n",
       "      <td>854.30</td>\n",
       "    </tr>\n",
       "    <tr>\n",
       "      <th>...</th>\n",
       "      <td>...</td>\n",
       "    </tr>\n",
       "    <tr>\n",
       "      <th>2021-10-26</th>\n",
       "      <td>2661.05</td>\n",
       "    </tr>\n",
       "    <tr>\n",
       "      <th>2021-10-27</th>\n",
       "      <td>2627.40</td>\n",
       "    </tr>\n",
       "    <tr>\n",
       "      <th>2021-10-28</th>\n",
       "      <td>2598.60</td>\n",
       "    </tr>\n",
       "    <tr>\n",
       "      <th>2021-10-29</th>\n",
       "      <td>2536.25</td>\n",
       "    </tr>\n",
       "    <tr>\n",
       "      <th>2021-11-01</th>\n",
       "      <td>2537.80</td>\n",
       "    </tr>\n",
       "  </tbody>\n",
       "</table>\n",
       "<p>1692 rows × 1 columns</p>\n",
       "</div>"
      ],
      "text/plain": [
       "              Close\n",
       "Date               \n",
       "2015-01-01   887.90\n",
       "2015-01-02   885.55\n",
       "2015-01-05   875.85\n",
       "2015-01-06   836.10\n",
       "2015-01-07   854.30\n",
       "...             ...\n",
       "2021-10-26  2661.05\n",
       "2021-10-27  2627.40\n",
       "2021-10-28  2598.60\n",
       "2021-10-29  2536.25\n",
       "2021-11-01  2537.80\n",
       "\n",
       "[1692 rows x 1 columns]"
      ]
     },
     "execution_count": 35,
     "metadata": {},
     "output_type": "execute_result"
    }
   ],
   "source": [
    "data"
   ]
  },
  {
   "cell_type": "markdown",
   "id": "64bf8731",
   "metadata": {},
   "source": [
    "### Applying Boxcox transformation "
   ]
  },
  {
   "cell_type": "code",
   "execution_count": 36,
   "id": "09432f97",
   "metadata": {
    "ExecuteTime": {
     "end_time": "2021-11-01T17:46:20.898448Z",
     "start_time": "2021-11-01T17:46:20.883492Z"
    }
   },
   "outputs": [],
   "source": [
    "from scipy import stats\n",
    "close_box,lambda_ = stats.boxcox(data['Close'])\n",
    "data['Close'] = close_box"
   ]
  },
  {
   "cell_type": "code",
   "execution_count": 37,
   "id": "036c9b52",
   "metadata": {
    "ExecuteTime": {
     "end_time": "2021-11-01T17:46:20.914302Z",
     "start_time": "2021-11-01T17:46:20.899446Z"
    }
   },
   "outputs": [],
   "source": [
    "new_data = data.copy()"
   ]
  },
  {
   "cell_type": "code",
   "execution_count": 38,
   "id": "6cee4fef",
   "metadata": {
    "ExecuteTime": {
     "end_time": "2021-11-01T17:46:20.930254Z",
     "start_time": "2021-11-01T17:46:20.916264Z"
    }
   },
   "outputs": [],
   "source": [
    "#converting dataset into x_train and y_train\n",
    "scaler = MinMaxScaler(feature_range=(0, 1))   # values will be scaled between 0 and 1\n",
    "data = scaler.fit_transform(data)"
   ]
  },
  {
   "cell_type": "code",
   "execution_count": 39,
   "id": "cb312cb1",
   "metadata": {
    "ExecuteTime": {
     "end_time": "2021-11-01T17:46:20.946230Z",
     "start_time": "2021-11-01T17:46:20.931247Z"
    }
   },
   "outputs": [],
   "source": [
    "training_size=int(len(data)*0.80)\n",
    "test_size=len(data)-training_size\n",
    "train = data[0:training_size,:]\n",
    "valid = data[training_size:len(data),:1]"
   ]
  },
  {
   "cell_type": "code",
   "execution_count": 40,
   "id": "e5ea1f4c",
   "metadata": {
    "ExecuteTime": {
     "end_time": "2021-11-01T17:46:20.960710Z",
     "start_time": "2021-11-01T17:46:20.946712Z"
    }
   },
   "outputs": [
    {
     "data": {
      "text/plain": [
       "((1353, 1), (339, 1))"
      ]
     },
     "execution_count": 40,
     "metadata": {},
     "output_type": "execute_result"
    }
   ],
   "source": [
    "train.shape, valid.shape"
   ]
  },
  {
   "cell_type": "code",
   "execution_count": 41,
   "id": "44d02c34",
   "metadata": {
    "ExecuteTime": {
     "end_time": "2021-11-01T17:46:20.976634Z",
     "start_time": "2021-11-01T17:46:20.961674Z"
    }
   },
   "outputs": [],
   "source": [
    "x_train, y_train = [], []\n",
    "for i in range(100,len(train)):\n",
    "    x_train.append(data[i-100:i,0])\n",
    "    y_train.append(data[i,0])\n",
    "x_train, y_train = np.array(x_train), np.array(y_train)\n",
    "\n",
    "x_train = np.reshape(x_train, (x_train.shape[0],x_train.shape[1],1))"
   ]
  },
  {
   "cell_type": "code",
   "execution_count": 42,
   "id": "8a970291",
   "metadata": {
    "ExecuteTime": {
     "end_time": "2021-11-01T17:46:20.992591Z",
     "start_time": "2021-11-01T17:46:20.978630Z"
    }
   },
   "outputs": [],
   "source": [
    "# create and fit the LSTM network\n",
    "# model = Sequential()\n",
    "# model.add(LSTM(units=100, return_sequences=True, input_shape=(x_train.shape[1],1)))\n",
    "# model.add(LSTM(100,return_sequences=True))\n",
    "# model.add(LSTM(100,return_sequences=True))\n",
    "# model.add(LSTM(units=100))\n",
    "# model.add(Dense(1))\n",
    "\n",
    "# model.compile(loss='mean_squared_error', optimizer='adam')\n",
    "# model.fit(x_train, y_train, epochs=30, batch_size=18, verbose=10)"
   ]
  },
  {
   "cell_type": "code",
   "execution_count": 43,
   "id": "e3731703",
   "metadata": {
    "ExecuteTime": {
     "end_time": "2021-11-01T17:46:21.007978Z",
     "start_time": "2021-11-01T17:46:20.993589Z"
    }
   },
   "outputs": [],
   "source": [
    "# model.save('model')  ## Saving the model"
   ]
  },
  {
   "cell_type": "code",
   "execution_count": 44,
   "id": "091806ad",
   "metadata": {
    "ExecuteTime": {
     "end_time": "2021-11-01T17:46:26.368521Z",
     "start_time": "2021-11-01T17:46:21.008980Z"
    }
   },
   "outputs": [],
   "source": [
    "from tensorflow import keras\n",
    "model = keras.models.load_model('model') # Loading the model"
   ]
  },
  {
   "cell_type": "code",
   "execution_count": 45,
   "id": "c8386c60",
   "metadata": {
    "ExecuteTime": {
     "end_time": "2021-11-01T17:46:26.384155Z",
     "start_time": "2021-11-01T17:46:26.369521Z"
    }
   },
   "outputs": [],
   "source": [
    "#predicting 100 values, using past 30 from the train data\n",
    "inputs = data[len(data) - len(valid) - 100:]\n",
    "inputs = inputs.reshape(-1,1)\n",
    "inputs  = scaler.transform(inputs)"
   ]
  },
  {
   "cell_type": "code",
   "execution_count": 46,
   "id": "0910d9c4",
   "metadata": {
    "ExecuteTime": {
     "end_time": "2021-11-01T17:46:26.400140Z",
     "start_time": "2021-11-01T17:46:26.385147Z"
    }
   },
   "outputs": [],
   "source": [
    "X_test = []\n",
    "for i in range(100,inputs.shape[0]):\n",
    "    X_test.append(inputs[i-100:i,0])\n",
    "X_test = np.array(X_test)\n"
   ]
  },
  {
   "cell_type": "markdown",
   "id": "6802e85c",
   "metadata": {},
   "source": [
    "### Predicting for Test data"
   ]
  },
  {
   "cell_type": "code",
   "execution_count": 47,
   "id": "aa84cf04",
   "metadata": {
    "ExecuteTime": {
     "end_time": "2021-11-01T17:46:27.669953Z",
     "start_time": "2021-11-01T17:46:26.401137Z"
    }
   },
   "outputs": [],
   "source": [
    "X_test = np.reshape(X_test, (X_test.shape[0],X_test.shape[1],1))\n",
    "closing_price = model.predict(X_test)\n",
    "closing_price = scaler.inverse_transform(closing_price)"
   ]
  },
  {
   "cell_type": "code",
   "execution_count": 48,
   "id": "64e920f8",
   "metadata": {
    "ExecuteTime": {
     "end_time": "2021-11-01T17:46:27.685927Z",
     "start_time": "2021-11-01T17:46:27.671959Z"
    }
   },
   "outputs": [
    {
     "data": {
      "text/plain": [
       "1.2006059908101472"
      ]
     },
     "execution_count": 48,
     "metadata": {},
     "output_type": "execute_result"
    }
   ],
   "source": [
    "rmse_test = np.sqrt(np.mean(np.power((valid-closing_price),2)))\n",
    "inv_boxcox(rmse_test, lambda_ ) "
   ]
  },
  {
   "cell_type": "markdown",
   "id": "eb4beec8",
   "metadata": {},
   "source": [
    "### Predicting for Train data"
   ]
  },
  {
   "cell_type": "code",
   "execution_count": 49,
   "id": "23d3dc6e",
   "metadata": {
    "ExecuteTime": {
     "end_time": "2021-11-01T17:46:29.154170Z",
     "start_time": "2021-11-01T17:46:27.687923Z"
    }
   },
   "outputs": [],
   "source": [
    "predictions_train = model.predict(x_train)\n",
    "# predictions_train = scaler.inverse_transform(predictions_train)"
   ]
  },
  {
   "cell_type": "code",
   "execution_count": 50,
   "id": "7fe539b1",
   "metadata": {
    "ExecuteTime": {
     "end_time": "2021-11-01T17:46:29.168611Z",
     "start_time": "2021-11-01T17:46:29.155174Z"
    }
   },
   "outputs": [
    {
     "data": {
      "text/plain": [
       "array([[0.1861458 ],\n",
       "       [0.18152447],\n",
       "       [0.19446628],\n",
       "       ...,\n",
       "       [0.84017146],\n",
       "       [0.8154328 ],\n",
       "       [0.8099011 ]], dtype=float32)"
      ]
     },
     "execution_count": 50,
     "metadata": {},
     "output_type": "execute_result"
    }
   ],
   "source": [
    "predictions_train"
   ]
  },
  {
   "cell_type": "code",
   "execution_count": 51,
   "id": "9131cff5",
   "metadata": {
    "ExecuteTime": {
     "end_time": "2021-11-01T17:46:29.231837Z",
     "start_time": "2021-11-01T17:46:29.169613Z"
    }
   },
   "outputs": [
    {
     "data": {
      "text/plain": [
       "1.3724112348767001"
      ]
     },
     "execution_count": 51,
     "metadata": {},
     "output_type": "execute_result"
    }
   ],
   "source": [
    "# Get the root mean squared error (RMSE)\n",
    "rmse_train = np.sqrt(np.mean(np.power((y_train-predictions_train),2)))\n",
    "inv_boxcox(rmse_train, lambda_) #Train RMSE"
   ]
  },
  {
   "cell_type": "code",
   "execution_count": 52,
   "id": "7a41397f",
   "metadata": {
    "ExecuteTime": {
     "end_time": "2021-11-01T17:46:29.247626Z",
     "start_time": "2021-11-01T17:46:29.232666Z"
    }
   },
   "outputs": [
    {
     "data": {
      "text/plain": [
       "array([[0.1861458 ],\n",
       "       [0.18152447],\n",
       "       [0.19446628],\n",
       "       ...,\n",
       "       [0.84017146],\n",
       "       [0.8154328 ],\n",
       "       [0.8099011 ]], dtype=float32)"
      ]
     },
     "execution_count": 52,
     "metadata": {},
     "output_type": "execute_result"
    }
   ],
   "source": [
    "predictions_train"
   ]
  },
  {
   "cell_type": "code",
   "execution_count": 53,
   "id": "b442d884",
   "metadata": {
    "ExecuteTime": {
     "end_time": "2021-11-01T17:46:29.262587Z",
     "start_time": "2021-11-01T17:46:29.249621Z"
    }
   },
   "outputs": [
    {
     "data": {
      "text/plain": [
       "-0.17180524406655295"
      ]
     },
     "execution_count": 53,
     "metadata": {},
     "output_type": "execute_result"
    }
   ],
   "source": [
    "inv_boxcox(rmse_test, lambda_) - inv_boxcox(rmse_train, lambda_)  # RMSE test - train"
   ]
  },
  {
   "cell_type": "markdown",
   "id": "ba79b91a",
   "metadata": {},
   "source": [
    "### Demonstrate prediction for next 30 days"
   ]
  },
  {
   "cell_type": "code",
   "execution_count": 54,
   "id": "2cb7131e",
   "metadata": {
    "ExecuteTime": {
     "end_time": "2021-11-01T17:46:29.278543Z",
     "start_time": "2021-11-01T17:46:29.265579Z"
    }
   },
   "outputs": [
    {
     "data": {
      "text/plain": [
       "(1, 100)"
      ]
     },
     "execution_count": 54,
     "metadata": {},
     "output_type": "execute_result"
    }
   ],
   "source": [
    "x_input=valid[len(valid)-100:].reshape(1,-1)\n",
    "x_input.shape"
   ]
  },
  {
   "cell_type": "code",
   "execution_count": 55,
   "id": "a6a9c253",
   "metadata": {
    "ExecuteTime": {
     "end_time": "2021-11-01T17:46:29.294501Z",
     "start_time": "2021-11-01T17:46:29.279540Z"
    }
   },
   "outputs": [],
   "source": [
    "temp_input=list(x_input)\n",
    "temp_input=temp_input[0].tolist()"
   ]
  },
  {
   "cell_type": "code",
   "execution_count": 56,
   "id": "e0d50613",
   "metadata": {
    "ExecuteTime": {
     "end_time": "2021-11-01T17:46:29.310458Z",
     "start_time": "2021-11-01T17:46:29.295498Z"
    }
   },
   "outputs": [
    {
     "data": {
      "text/plain": [
       "100"
      ]
     },
     "execution_count": 56,
     "metadata": {},
     "output_type": "execute_result"
    }
   ],
   "source": [
    "len(temp_input)"
   ]
  },
  {
   "cell_type": "code",
   "execution_count": 57,
   "id": "bc571abc",
   "metadata": {
    "ExecuteTime": {
     "end_time": "2021-11-01T17:46:29.326415Z",
     "start_time": "2021-11-01T17:46:29.312453Z"
    }
   },
   "outputs": [
    {
     "data": {
      "text/plain": [
       "array([0.91971973, 0.92535463, 0.93109727, 0.93200202, 0.92506933,\n",
       "       0.92581381, 0.92763844, 0.92973107, 0.92765658, 0.92391416,\n",
       "       0.91402691, 0.90414587, 0.90028787, 0.90066778, 0.9054246 ,\n",
       "       0.90279576, 0.90916819, 0.91337868, 0.90831025, 0.90530123,\n",
       "       0.90167713, 0.8971348 , 0.89988602, 0.90316021, 0.90028787,\n",
       "       0.89951513, 0.90578394, 0.9030041 , 0.90192862, 0.90747877,\n",
       "       0.90440439, 0.89834472, 0.89362237, 0.88972093, 0.89323905,\n",
       "       0.88926264, 0.89741387, 0.90065724, 0.90400094, 0.91021247,\n",
       "       0.90093115, 0.89840875, 0.90072048, 0.90678638, 0.90539376,\n",
       "       0.91248109, 0.91790621, 0.91612248, 0.91774305, 0.91299455,\n",
       "       0.91575387, 0.91985263, 0.92340344, 0.92850745, 0.92795577,\n",
       "       0.93554746, 0.93343791, 0.93500082, 0.93967999, 0.95485282,\n",
       "       0.96045719, 0.96271037, 0.96130787, 0.96045719, 0.95222382,\n",
       "       0.95173823, 0.95327603, 0.96084243, 0.95516782, 0.95575005,\n",
       "       0.95732494, 0.96118242, 0.96970861, 0.96870057, 0.97445219,\n",
       "       0.97760588, 0.97491079, 0.973748  , 0.97435084, 0.97867257,\n",
       "       0.98546734, 0.9791572 , 0.98078882, 0.99301504, 0.99079596,\n",
       "       0.99260617, 0.99579063, 0.99642083, 0.99724883, 1.        ,\n",
       "       0.99642083, 0.98712041, 0.98772449, 0.984539  , 0.99180263,\n",
       "       0.98772449, 0.98413564, 0.97603764, 0.97624461])"
      ]
     },
     "execution_count": 57,
     "metadata": {},
     "output_type": "execute_result"
    }
   ],
   "source": [
    "np.array(temp_input[1:])"
   ]
  },
  {
   "cell_type": "code",
   "execution_count": 58,
   "id": "a51fb417",
   "metadata": {
    "ExecuteTime": {
     "end_time": "2021-11-01T17:46:41.087549Z",
     "start_time": "2021-11-01T17:46:29.327413Z"
    }
   },
   "outputs": [
    {
     "name": "stdout",
     "output_type": "stream",
     "text": [
      "Enter the number of days for prediction : 10\n"
     ]
    }
   ],
   "source": [
    "n_days = int(input( 'Enter the number of days for prediction : '))"
   ]
  },
  {
   "cell_type": "code",
   "execution_count": 59,
   "id": "37e9fee1",
   "metadata": {
    "ExecuteTime": {
     "end_time": "2021-11-01T17:46:41.483173Z",
     "start_time": "2021-11-01T17:46:41.089518Z"
    }
   },
   "outputs": [
    {
     "name": "stdout",
     "output_type": "stream",
     "text": [
      "[0.9884573]\n",
      "101\n",
      "1 day input [0.91971973 0.92535463 0.93109727 0.93200202 0.92506933 0.92581381\n",
      " 0.92763844 0.92973107 0.92765658 0.92391416 0.91402691 0.90414587\n",
      " 0.90028787 0.90066778 0.9054246  0.90279576 0.90916819 0.91337868\n",
      " 0.90831025 0.90530123 0.90167713 0.8971348  0.89988602 0.90316021\n",
      " 0.90028787 0.89951513 0.90578394 0.9030041  0.90192862 0.90747877\n",
      " 0.90440439 0.89834472 0.89362237 0.88972093 0.89323905 0.88926264\n",
      " 0.89741387 0.90065724 0.90400094 0.91021247 0.90093115 0.89840875\n",
      " 0.90072048 0.90678638 0.90539376 0.91248109 0.91790621 0.91612248\n",
      " 0.91774305 0.91299455 0.91575387 0.91985263 0.92340344 0.92850745\n",
      " 0.92795577 0.93554746 0.93343791 0.93500082 0.93967999 0.95485282\n",
      " 0.96045719 0.96271037 0.96130787 0.96045719 0.95222382 0.95173823\n",
      " 0.95327603 0.96084243 0.95516782 0.95575005 0.95732494 0.96118242\n",
      " 0.96970861 0.96870057 0.97445219 0.97760588 0.97491079 0.973748\n",
      " 0.97435084 0.97867257 0.98546734 0.9791572  0.98078882 0.99301504\n",
      " 0.99079596 0.99260617 0.99579063 0.99642083 0.99724883 1.\n",
      " 0.99642083 0.98712041 0.98772449 0.984539   0.99180263 0.98772449\n",
      " 0.98413564 0.97603764 0.97624461 0.98845732]\n",
      "1 day output [[1.0021415]]\n",
      "2 day input [0.92535463 0.93109727 0.93200202 0.92506933 0.92581381 0.92763844\n",
      " 0.92973107 0.92765658 0.92391416 0.91402691 0.90414587 0.90028787\n",
      " 0.90066778 0.9054246  0.90279576 0.90916819 0.91337868 0.90831025\n",
      " 0.90530123 0.90167713 0.8971348  0.89988602 0.90316021 0.90028787\n",
      " 0.89951513 0.90578394 0.9030041  0.90192862 0.90747877 0.90440439\n",
      " 0.89834472 0.89362237 0.88972093 0.89323905 0.88926264 0.89741387\n",
      " 0.90065724 0.90400094 0.91021247 0.90093115 0.89840875 0.90072048\n",
      " 0.90678638 0.90539376 0.91248109 0.91790621 0.91612248 0.91774305\n",
      " 0.91299455 0.91575387 0.91985263 0.92340344 0.92850745 0.92795577\n",
      " 0.93554746 0.93343791 0.93500082 0.93967999 0.95485282 0.96045719\n",
      " 0.96271037 0.96130787 0.96045719 0.95222382 0.95173823 0.95327603\n",
      " 0.96084243 0.95516782 0.95575005 0.95732494 0.96118242 0.96970861\n",
      " 0.96870057 0.97445219 0.97760588 0.97491079 0.973748   0.97435084\n",
      " 0.97867257 0.98546734 0.9791572  0.98078882 0.99301504 0.99079596\n",
      " 0.99260617 0.99579063 0.99642083 0.99724883 1.         0.99642083\n",
      " 0.98712041 0.98772449 0.984539   0.99180263 0.98772449 0.98413564\n",
      " 0.97603764 0.97624461 0.98845732 1.00214148]\n",
      "2 day output [[1.0112712]]\n",
      "3 day input [0.93109727 0.93200202 0.92506933 0.92581381 0.92763844 0.92973107\n",
      " 0.92765658 0.92391416 0.91402691 0.90414587 0.90028787 0.90066778\n",
      " 0.9054246  0.90279576 0.90916819 0.91337868 0.90831025 0.90530123\n",
      " 0.90167713 0.8971348  0.89988602 0.90316021 0.90028787 0.89951513\n",
      " 0.90578394 0.9030041  0.90192862 0.90747877 0.90440439 0.89834472\n",
      " 0.89362237 0.88972093 0.89323905 0.88926264 0.89741387 0.90065724\n",
      " 0.90400094 0.91021247 0.90093115 0.89840875 0.90072048 0.90678638\n",
      " 0.90539376 0.91248109 0.91790621 0.91612248 0.91774305 0.91299455\n",
      " 0.91575387 0.91985263 0.92340344 0.92850745 0.92795577 0.93554746\n",
      " 0.93343791 0.93500082 0.93967999 0.95485282 0.96045719 0.96271037\n",
      " 0.96130787 0.96045719 0.95222382 0.95173823 0.95327603 0.96084243\n",
      " 0.95516782 0.95575005 0.95732494 0.96118242 0.96970861 0.96870057\n",
      " 0.97445219 0.97760588 0.97491079 0.973748   0.97435084 0.97867257\n",
      " 0.98546734 0.9791572  0.98078882 0.99301504 0.99079596 0.99260617\n",
      " 0.99579063 0.99642083 0.99724883 1.         0.99642083 0.98712041\n",
      " 0.98772449 0.984539   0.99180263 0.98772449 0.98413564 0.97603764\n",
      " 0.97624461 0.98845732 1.00214148 1.01127124]\n",
      "3 day output [[1.0141566]]\n",
      "4 day input [0.93200202 0.92506933 0.92581381 0.92763844 0.92973107 0.92765658\n",
      " 0.92391416 0.91402691 0.90414587 0.90028787 0.90066778 0.9054246\n",
      " 0.90279576 0.90916819 0.91337868 0.90831025 0.90530123 0.90167713\n",
      " 0.8971348  0.89988602 0.90316021 0.90028787 0.89951513 0.90578394\n",
      " 0.9030041  0.90192862 0.90747877 0.90440439 0.89834472 0.89362237\n",
      " 0.88972093 0.89323905 0.88926264 0.89741387 0.90065724 0.90400094\n",
      " 0.91021247 0.90093115 0.89840875 0.90072048 0.90678638 0.90539376\n",
      " 0.91248109 0.91790621 0.91612248 0.91774305 0.91299455 0.91575387\n",
      " 0.91985263 0.92340344 0.92850745 0.92795577 0.93554746 0.93343791\n",
      " 0.93500082 0.93967999 0.95485282 0.96045719 0.96271037 0.96130787\n",
      " 0.96045719 0.95222382 0.95173823 0.95327603 0.96084243 0.95516782\n",
      " 0.95575005 0.95732494 0.96118242 0.96970861 0.96870057 0.97445219\n",
      " 0.97760588 0.97491079 0.973748   0.97435084 0.97867257 0.98546734\n",
      " 0.9791572  0.98078882 0.99301504 0.99079596 0.99260617 0.99579063\n",
      " 0.99642083 0.99724883 1.         0.99642083 0.98712041 0.98772449\n",
      " 0.984539   0.99180263 0.98772449 0.98413564 0.97603764 0.97624461\n",
      " 0.98845732 1.00214148 1.01127124 1.01415658]\n",
      "4 day output [[1.0127548]]\n",
      "5 day input [0.92506933 0.92581381 0.92763844 0.92973107 0.92765658 0.92391416\n",
      " 0.91402691 0.90414587 0.90028787 0.90066778 0.9054246  0.90279576\n",
      " 0.90916819 0.91337868 0.90831025 0.90530123 0.90167713 0.8971348\n",
      " 0.89988602 0.90316021 0.90028787 0.89951513 0.90578394 0.9030041\n",
      " 0.90192862 0.90747877 0.90440439 0.89834472 0.89362237 0.88972093\n",
      " 0.89323905 0.88926264 0.89741387 0.90065724 0.90400094 0.91021247\n",
      " 0.90093115 0.89840875 0.90072048 0.90678638 0.90539376 0.91248109\n",
      " 0.91790621 0.91612248 0.91774305 0.91299455 0.91575387 0.91985263\n",
      " 0.92340344 0.92850745 0.92795577 0.93554746 0.93343791 0.93500082\n",
      " 0.93967999 0.95485282 0.96045719 0.96271037 0.96130787 0.96045719\n",
      " 0.95222382 0.95173823 0.95327603 0.96084243 0.95516782 0.95575005\n",
      " 0.95732494 0.96118242 0.96970861 0.96870057 0.97445219 0.97760588\n",
      " 0.97491079 0.973748   0.97435084 0.97867257 0.98546734 0.9791572\n",
      " 0.98078882 0.99301504 0.99079596 0.99260617 0.99579063 0.99642083\n",
      " 0.99724883 1.         0.99642083 0.98712041 0.98772449 0.984539\n",
      " 0.99180263 0.98772449 0.98413564 0.97603764 0.97624461 0.98845732\n",
      " 1.00214148 1.01127124 1.01415658 1.0127548 ]\n",
      "5 day output [[1.01029]]\n",
      "6 day input [0.92581381 0.92763844 0.92973107 0.92765658 0.92391416 0.91402691\n",
      " 0.90414587 0.90028787 0.90066778 0.9054246  0.90279576 0.90916819\n",
      " 0.91337868 0.90831025 0.90530123 0.90167713 0.8971348  0.89988602\n",
      " 0.90316021 0.90028787 0.89951513 0.90578394 0.9030041  0.90192862\n",
      " 0.90747877 0.90440439 0.89834472 0.89362237 0.88972093 0.89323905\n",
      " 0.88926264 0.89741387 0.90065724 0.90400094 0.91021247 0.90093115\n",
      " 0.89840875 0.90072048 0.90678638 0.90539376 0.91248109 0.91790621\n",
      " 0.91612248 0.91774305 0.91299455 0.91575387 0.91985263 0.92340344\n",
      " 0.92850745 0.92795577 0.93554746 0.93343791 0.93500082 0.93967999\n",
      " 0.95485282 0.96045719 0.96271037 0.96130787 0.96045719 0.95222382\n",
      " 0.95173823 0.95327603 0.96084243 0.95516782 0.95575005 0.95732494\n",
      " 0.96118242 0.96970861 0.96870057 0.97445219 0.97760588 0.97491079\n",
      " 0.973748   0.97435084 0.97867257 0.98546734 0.9791572  0.98078882\n",
      " 0.99301504 0.99079596 0.99260617 0.99579063 0.99642083 0.99724883\n",
      " 1.         0.99642083 0.98712041 0.98772449 0.984539   0.99180263\n",
      " 0.98772449 0.98413564 0.97603764 0.97624461 0.98845732 1.00214148\n",
      " 1.01127124 1.01415658 1.0127548  1.01029003]\n",
      "6 day output [[1.009163]]\n",
      "7 day input [0.92763844 0.92973107 0.92765658 0.92391416 0.91402691 0.90414587\n",
      " 0.90028787 0.90066778 0.9054246  0.90279576 0.90916819 0.91337868\n",
      " 0.90831025 0.90530123 0.90167713 0.8971348  0.89988602 0.90316021\n",
      " 0.90028787 0.89951513 0.90578394 0.9030041  0.90192862 0.90747877\n",
      " 0.90440439 0.89834472 0.89362237 0.88972093 0.89323905 0.88926264\n",
      " 0.89741387 0.90065724 0.90400094 0.91021247 0.90093115 0.89840875\n",
      " 0.90072048 0.90678638 0.90539376 0.91248109 0.91790621 0.91612248\n",
      " 0.91774305 0.91299455 0.91575387 0.91985263 0.92340344 0.92850745\n",
      " 0.92795577 0.93554746 0.93343791 0.93500082 0.93967999 0.95485282\n",
      " 0.96045719 0.96271037 0.96130787 0.96045719 0.95222382 0.95173823\n",
      " 0.95327603 0.96084243 0.95516782 0.95575005 0.95732494 0.96118242\n",
      " 0.96970861 0.96870057 0.97445219 0.97760588 0.97491079 0.973748\n",
      " 0.97435084 0.97867257 0.98546734 0.9791572  0.98078882 0.99301504\n",
      " 0.99079596 0.99260617 0.99579063 0.99642083 0.99724883 1.\n",
      " 0.99642083 0.98712041 0.98772449 0.984539   0.99180263 0.98772449\n",
      " 0.98413564 0.97603764 0.97624461 0.98845732 1.00214148 1.01127124\n",
      " 1.01415658 1.0127548  1.01029003 1.00916302]\n",
      "7 day output [[1.0100794]]\n",
      "8 day input [0.92973107 0.92765658 0.92391416 0.91402691 0.90414587 0.90028787\n",
      " 0.90066778 0.9054246  0.90279576 0.90916819 0.91337868 0.90831025\n",
      " 0.90530123 0.90167713 0.8971348  0.89988602 0.90316021 0.90028787\n",
      " 0.89951513 0.90578394 0.9030041  0.90192862 0.90747877 0.90440439\n",
      " 0.89834472 0.89362237 0.88972093 0.89323905 0.88926264 0.89741387\n",
      " 0.90065724 0.90400094 0.91021247 0.90093115 0.89840875 0.90072048\n",
      " 0.90678638 0.90539376 0.91248109 0.91790621 0.91612248 0.91774305\n",
      " 0.91299455 0.91575387 0.91985263 0.92340344 0.92850745 0.92795577\n",
      " 0.93554746 0.93343791 0.93500082 0.93967999 0.95485282 0.96045719\n",
      " 0.96271037 0.96130787 0.96045719 0.95222382 0.95173823 0.95327603\n",
      " 0.96084243 0.95516782 0.95575005 0.95732494 0.96118242 0.96970861\n",
      " 0.96870057 0.97445219 0.97760588 0.97491079 0.973748   0.97435084\n",
      " 0.97867257 0.98546734 0.9791572  0.98078882 0.99301504 0.99079596\n",
      " 0.99260617 0.99579063 0.99642083 0.99724883 1.         0.99642083\n",
      " 0.98712041 0.98772449 0.984539   0.99180263 0.98772449 0.98413564\n",
      " 0.97603764 0.97624461 0.98845732 1.00214148 1.01127124 1.01415658\n",
      " 1.0127548  1.01029003 1.00916302 1.01007938]\n",
      "8 day output [[1.0123811]]\n",
      "9 day input [0.92765658 0.92391416 0.91402691 0.90414587 0.90028787 0.90066778\n",
      " 0.9054246  0.90279576 0.90916819 0.91337868 0.90831025 0.90530123\n",
      " 0.90167713 0.8971348  0.89988602 0.90316021 0.90028787 0.89951513\n",
      " 0.90578394 0.9030041  0.90192862 0.90747877 0.90440439 0.89834472\n",
      " 0.89362237 0.88972093 0.89323905 0.88926264 0.89741387 0.90065724\n",
      " 0.90400094 0.91021247 0.90093115 0.89840875 0.90072048 0.90678638\n",
      " 0.90539376 0.91248109 0.91790621 0.91612248 0.91774305 0.91299455\n",
      " 0.91575387 0.91985263 0.92340344 0.92850745 0.92795577 0.93554746\n",
      " 0.93343791 0.93500082 0.93967999 0.95485282 0.96045719 0.96271037\n",
      " 0.96130787 0.96045719 0.95222382 0.95173823 0.95327603 0.96084243\n",
      " 0.95516782 0.95575005 0.95732494 0.96118242 0.96970861 0.96870057\n",
      " 0.97445219 0.97760588 0.97491079 0.973748   0.97435084 0.97867257\n",
      " 0.98546734 0.9791572  0.98078882 0.99301504 0.99079596 0.99260617\n",
      " 0.99579063 0.99642083 0.99724883 1.         0.99642083 0.98712041\n",
      " 0.98772449 0.984539   0.99180263 0.98772449 0.98413564 0.97603764\n",
      " 0.97624461 0.98845732 1.00214148 1.01127124 1.01415658 1.0127548\n",
      " 1.01029003 1.00916302 1.01007938 1.01238108]\n",
      "9 day output [[1.0149423]]\n",
      "[[0.9884573221206665], [1.0021414756774902], [1.0112712383270264], [1.0141565799713135], [1.0127547979354858], [1.0102900266647339], [1.0091630220413208], [1.0100793838500977], [1.0123810768127441], [1.0149422883987427]]\n"
     ]
    }
   ],
   "source": [
    "\n",
    "from numpy import array\n",
    "\n",
    "lst_output=[]\n",
    "n_steps=100\n",
    "i=0\n",
    "while(i<n_days):\n",
    "    \n",
    "    if(len(temp_input)>100):\n",
    "        #print(temp_input)\n",
    "        x_input=np.array(temp_input[1:])\n",
    "        print(\"{} day input {}\".format(i,x_input))\n",
    "        x_input=x_input.reshape(1,-1)\n",
    "        x_input = x_input.reshape((1, n_steps, 1))\n",
    "        #print(x_input)\n",
    "        yhat = model.predict(x_input, verbose=0)\n",
    "        print(\"{} day output {}\".format(i,yhat))\n",
    "        temp_input.extend(yhat[0].tolist())\n",
    "        temp_input=temp_input[1:]\n",
    "        #print(temp_input)\n",
    "        lst_output.extend(yhat.tolist())\n",
    "        i=i+1\n",
    "    else:\n",
    "        x_input = x_input.reshape((1, n_steps,1))\n",
    "        yhat = model.predict(x_input, verbose=0)\n",
    "        print(yhat[0])\n",
    "        temp_input.extend(yhat[0].tolist())\n",
    "        print(len(temp_input))\n",
    "        lst_output.extend(yhat.tolist())\n",
    "        i=i+1\n",
    "    \n",
    "\n",
    "print(lst_output)"
   ]
  },
  {
   "cell_type": "code",
   "execution_count": 60,
   "id": "684a3299",
   "metadata": {
    "ExecuteTime": {
     "end_time": "2021-11-01T17:46:41.498141Z",
     "start_time": "2021-11-01T17:46:41.484171Z"
    }
   },
   "outputs": [],
   "source": [
    "# day_new=np.arange(1,101)\n",
    "# day_pred=np.arange(101,131)\n",
    "\n",
    "day_new= new_data.index[len(new_data)-100:]\n",
    "day_pred= pd.date_range(date.today(), periods= n_days , freq='D')"
   ]
  },
  {
   "cell_type": "code",
   "execution_count": 61,
   "id": "aedcdb45",
   "metadata": {
    "ExecuteTime": {
     "end_time": "2021-11-01T17:46:41.609357Z",
     "start_time": "2021-11-01T17:46:41.499134Z"
    }
   },
   "outputs": [
    {
     "data": {
      "text/plain": [
       "[<matplotlib.lines.Line2D at 0x1c31912a340>]"
      ]
     },
     "execution_count": 61,
     "metadata": {},
     "output_type": "execute_result"
    },
    {
     "data": {
      "image/png": "[encoded data removed]",
      "text/plain": [
       "<Figure size 432x288 with 1 Axes>"
      ]
     },
     "metadata": {
      "needs_background": "light"
     },
     "output_type": "display_data"
    }
   ],
   "source": [
    "# plt.plot(day_new,scaler.inverse_transform(data[len(data)-100 :]))\n",
    "# plt.plot(day_pred,scaler.inverse_transform((lst_output)))\n",
    "plt.plot(day_new,inv_boxcox(scaler.inverse_transform(data[len(data)-100 :]), lambda_ ), label = ' actual Closing price')\n",
    "plt.plot(day_pred,inv_boxcox(scaler.inverse_transform((lst_output)), lambda_ ), label = 'Predicted')\n",
    "# plt.grid(True)"
   ]
  },
  {
   "cell_type": "code",
   "execution_count": 62,
   "id": "8c2e2402",
   "metadata": {
    "ExecuteTime": {
     "end_time": "2021-11-01T17:46:41.625287Z",
     "start_time": "2021-11-01T17:46:41.611321Z"
    }
   },
   "outputs": [
    {
     "data": {
      "text/plain": [
       "array([[2633.3731899 ],\n",
       "       [2751.08166699],\n",
       "       [2836.77223612],\n",
       "       [2865.17535984],\n",
       "       [2851.29344762],\n",
       "       [2827.26284237],\n",
       "       [2816.43222777],\n",
       "       [2825.23113135],\n",
       "       [2847.61903151],\n",
       "       [2873.02582222]])"
      ]
     },
     "execution_count": 62,
     "metadata": {},
     "output_type": "execute_result"
    }
   ],
   "source": [
    "output = inv_boxcox(scaler.inverse_transform((lst_output)), lambda_ )\n",
    "output"
   ]
  },
  {
   "cell_type": "markdown",
   "id": "e5be33f4",
   "metadata": {},
   "source": [
    "### Forecasted  Values "
   ]
  },
  {
   "cell_type": "code",
   "execution_count": 63,
   "id": "adee79bb",
   "metadata": {
    "ExecuteTime": {
     "end_time": "2021-11-01T17:46:41.640459Z",
     "start_time": "2021-11-01T17:46:41.626459Z"
    },
    "scrolled": false
   },
   "outputs": [
    {
     "data": {
      "text/plain": [
       "array([[2633.3731899 ],\n",
       "       [2751.08166699],\n",
       "       [2836.77223612],\n",
       "       [2865.17535984],\n",
       "       [2851.29344762],\n",
       "       [2827.26284237],\n",
       "       [2816.43222777],\n",
       "       [2825.23113135],\n",
       "       [2847.61903151],\n",
       "       [2873.02582222]])"
      ]
     },
     "execution_count": 63,
     "metadata": {},
     "output_type": "execute_result"
    }
   ],
   "source": [
    "output = inv_boxcox(scaler.inverse_transform((lst_output)), lambda_ )\n",
    "output"
   ]
  },
  {
   "cell_type": "markdown",
   "id": "05f19d12",
   "metadata": {},
   "source": [
    "### Confidence interval"
   ]
  },
  {
   "cell_type": "code",
   "execution_count": 64,
   "id": "d1ab81b2",
   "metadata": {
    "ExecuteTime": {
     "end_time": "2021-11-01T17:46:41.656432Z",
     "start_time": "2021-11-01T17:46:41.641421Z"
    }
   },
   "outputs": [
    {
     "name": "stdout",
     "output_type": "stream",
     "text": [
      "Gain at 95% confidence interval is: [2679.77 2945.69]\n"
     ]
    }
   ],
   "source": [
    "conf_interval = stats.norm.interval(0.95,\n",
    "loc = output.mean(),\n",
    "scale = output.std())\n",
    "print( 'Gain at 95% confidence interval is:', np.round(conf_interval, 2))"
   ]
  },
  {
   "cell_type": "code",
   "execution_count": 65,
   "id": "826f61e4",
   "metadata": {
    "ExecuteTime": {
     "end_time": "2021-11-01T17:46:41.672144Z",
     "start_time": "2021-11-01T17:46:41.658376Z"
    }
   },
   "outputs": [],
   "source": [
    "low , high = conf_interval"
   ]
  },
  {
   "cell_type": "code",
   "execution_count": 66,
   "id": "f72d44ba",
   "metadata": {
    "ExecuteTime": {
     "end_time": "2021-11-01T17:46:41.688232Z",
     "start_time": "2021-11-01T17:46:41.673142Z"
    }
   },
   "outputs": [
    {
     "data": {
      "text/plain": [
       "(2679.767896661865, 2945.685494476259)"
      ]
     },
     "execution_count": 66,
     "metadata": {},
     "output_type": "execute_result"
    }
   ],
   "source": [
    "low , high"
   ]
  },
  {
   "cell_type": "code",
   "execution_count": 67,
   "id": "c5c00ff3",
   "metadata": {
    "ExecuteTime": {
     "end_time": "2021-11-01T17:46:41.704192Z",
     "start_time": "2021-11-01T17:46:41.693221Z"
    }
   },
   "outputs": [
    {
     "data": {
      "text/plain": [
       "array([[2633.3731899 ],\n",
       "       [2751.08166699],\n",
       "       [2836.77223612],\n",
       "       [2865.17535984],\n",
       "       [2851.29344762],\n",
       "       [2827.26284237],\n",
       "       [2816.43222777],\n",
       "       [2825.23113135],\n",
       "       [2847.61903151],\n",
       "       [2873.02582222]])"
      ]
     },
     "execution_count": 67,
     "metadata": {},
     "output_type": "execute_result"
    }
   ],
   "source": [
    "output"
   ]
  },
  {
   "cell_type": "code",
   "execution_count": null,
   "id": "f41900e0",
   "metadata": {},
   "outputs": [],
   "source": []
  },
  {
   "cell_type": "markdown",
   "id": "ea603d71",
   "metadata": {},
   "source": [
    "## ERROR calculation"
   ]
  },
  {
   "cell_type": "code",
   "execution_count": 68,
   "id": "2be3fdec",
   "metadata": {
    "ExecuteTime": {
     "end_time": "2021-11-01T17:46:41.720187Z",
     "start_time": "2021-11-01T17:46:41.705189Z"
    }
   },
   "outputs": [],
   "source": [
    "output = pd.DataFrame( output , columns = {'Predicted':0})\n",
    "output = pd.DataFrame( output , columns = {'Predicted':0 , 'Actual_price': \"actual_price\"})\n",
    "# output.to_csv('Forecasted.csv')"
   ]
  },
  {
   "cell_type": "code",
   "execution_count": 75,
   "id": "a568267f",
   "metadata": {
    "ExecuteTime": {
     "end_time": "2021-11-01T17:48:12.231006Z",
     "start_time": "2021-11-01T17:48:12.221032Z"
    }
   },
   "outputs": [],
   "source": [
    "# output.to_csv('output')"
   ]
  },
  {
   "cell_type": "code",
   "execution_count": 70,
   "id": "920b8d20",
   "metadata": {
    "ExecuteTime": {
     "end_time": "2021-11-01T17:46:41.752067Z",
     "start_time": "2021-11-01T17:46:41.737103Z"
    }
   },
   "outputs": [],
   "source": [
    "output.set_index(day_pred , inplace= True)"
   ]
  },
  {
   "cell_type": "code",
   "execution_count": 76,
   "id": "103ee6bf",
   "metadata": {
    "ExecuteTime": {
     "end_time": "2021-11-01T17:48:33.797245Z",
     "start_time": "2021-11-01T17:48:33.786186Z"
    }
   },
   "outputs": [
    {
     "data": {
      "text/html": [
       "<div>\n",
       "<style scoped>\n",
       "    .dataframe tbody tr th:only-of-type {\n",
       "        vertical-align: middle;\n",
       "    }\n",
       "\n",
       "    .dataframe tbody tr th {\n",
       "        vertical-align: top;\n",
       "    }\n",
       "\n",
       "    .dataframe thead th {\n",
       "        text-align: right;\n",
       "    }\n",
       "</style>\n",
       "<table border=\"1\" class=\"dataframe\">\n",
       "  <thead>\n",
       "    <tr style=\"text-align: right;\">\n",
       "      <th></th>\n",
       "      <th>Predicted</th>\n",
       "      <th>Actual_price</th>\n",
       "    </tr>\n",
       "  </thead>\n",
       "  <tbody>\n",
       "    <tr>\n",
       "      <th>2021-11-01</th>\n",
       "      <td>2633.373190</td>\n",
       "      <td>2537.8</td>\n",
       "    </tr>\n",
       "    <tr>\n",
       "      <th>2021-11-02</th>\n",
       "      <td>2751.081667</td>\n",
       "      <td>NaN</td>\n",
       "    </tr>\n",
       "    <tr>\n",
       "      <th>2021-11-03</th>\n",
       "      <td>2836.772236</td>\n",
       "      <td>NaN</td>\n",
       "    </tr>\n",
       "    <tr>\n",
       "      <th>2021-11-04</th>\n",
       "      <td>2865.175360</td>\n",
       "      <td>NaN</td>\n",
       "    </tr>\n",
       "    <tr>\n",
       "      <th>2021-11-05</th>\n",
       "      <td>2851.293448</td>\n",
       "      <td>NaN</td>\n",
       "    </tr>\n",
       "    <tr>\n",
       "      <th>2021-11-06</th>\n",
       "      <td>2827.262842</td>\n",
       "      <td>NaN</td>\n",
       "    </tr>\n",
       "    <tr>\n",
       "      <th>2021-11-07</th>\n",
       "      <td>2816.432228</td>\n",
       "      <td>NaN</td>\n",
       "    </tr>\n",
       "    <tr>\n",
       "      <th>2021-11-08</th>\n",
       "      <td>2825.231131</td>\n",
       "      <td>NaN</td>\n",
       "    </tr>\n",
       "    <tr>\n",
       "      <th>2021-11-09</th>\n",
       "      <td>2847.619032</td>\n",
       "      <td>NaN</td>\n",
       "    </tr>\n",
       "    <tr>\n",
       "      <th>2021-11-10</th>\n",
       "      <td>2873.025822</td>\n",
       "      <td>NaN</td>\n",
       "    </tr>\n",
       "  </tbody>\n",
       "</table>\n",
       "</div>"
      ],
      "text/plain": [
       "              Predicted  Actual_price\n",
       "2021-11-01  2633.373190        2537.8\n",
       "2021-11-02  2751.081667           NaN\n",
       "2021-11-03  2836.772236           NaN\n",
       "2021-11-04  2865.175360           NaN\n",
       "2021-11-05  2851.293448           NaN\n",
       "2021-11-06  2827.262842           NaN\n",
       "2021-11-07  2816.432228           NaN\n",
       "2021-11-08  2825.231131           NaN\n",
       "2021-11-09  2847.619032           NaN\n",
       "2021-11-10  2873.025822           NaN"
      ]
     },
     "execution_count": 76,
     "metadata": {},
     "output_type": "execute_result"
    }
   ],
   "source": [
    "output"
   ]
  },
  {
   "cell_type": "code",
   "execution_count": 71,
   "id": "0f243991",
   "metadata": {
    "ExecuteTime": {
     "end_time": "2021-11-01T17:46:41.767204Z",
     "start_time": "2021-11-01T17:46:41.753060Z"
    }
   },
   "outputs": [],
   "source": [
    "# output['Actual_price'][0] = inv_boxcox(new_data.Close.tail(1), lambda_ )"
   ]
  },
  {
   "cell_type": "code",
   "execution_count": 72,
   "id": "f5b55dff",
   "metadata": {
    "ExecuteTime": {
     "end_time": "2021-11-01T17:46:41.782194Z",
     "start_time": "2021-11-01T17:46:41.768204Z"
    }
   },
   "outputs": [],
   "source": [
    "for i in range(0 , n_days):\n",
    "    if output.index[i] == new_data.index[-1]:\n",
    "#         output['Actual_price'][i] = np.round(inv_boxcox(new_data['Close'][-1], lambda_ ),2)\n",
    "        with open('file.csv', 'a') as f:\n",
    "            f.write(str(np.round(inv_boxcox(new_data['Close'][-1], lambda_ ),2)))\n",
    "    else :\n",
    "        pass  "
   ]
  },
  {
   "cell_type": "code",
   "execution_count": null,
   "id": "1c4a59cc",
   "metadata": {
    "ExecuteTime": {
     "end_time": "2021-11-01T17:46:41.815936Z",
     "start_time": "2021-11-01T17:46:13.819Z"
    }
   },
   "outputs": [],
   "source": [
    "output"
   ]
  },
  {
   "cell_type": "code",
   "execution_count": null,
   "id": "b1c65f82",
   "metadata": {
    "ExecuteTime": {
     "end_time": "2021-11-01T17:46:41.815936Z",
     "start_time": "2021-11-01T17:46:13.820Z"
    }
   },
   "outputs": [],
   "source": [
    "# output['Error'] = output.Predicted - output.Actual_price"
   ]
  },
  {
   "cell_type": "code",
   "execution_count": null,
   "id": "2424b178",
   "metadata": {
    "ExecuteTime": {
     "end_time": "2021-11-01T17:46:41.816932Z",
     "start_time": "2021-11-01T17:46:13.821Z"
    }
   },
   "outputs": [],
   "source": [
    "# output"
   ]
  },
  {
   "cell_type": "code",
   "execution_count": null,
   "id": "fb78d726",
   "metadata": {},
   "outputs": [],
   "source": []
  }
 ],
 "metadata": {
  "kernelspec": {
   "display_name": "Python 3",
   "language": "python",
   "name": "python3"
  },
  "language_info": {
   "codemirror_mode": {
    "name": "ipython",
    "version": 3
   },
   "file_extension": ".py",
   "mimetype": "text/x-python",
   "name": "python",
   "nbconvert_exporter": "python",
   "pygments_lexer": "ipython3",
   "version": "3.8.8"
  }
 },
 "nbformat": 4,
 "nbformat_minor": 5
}
